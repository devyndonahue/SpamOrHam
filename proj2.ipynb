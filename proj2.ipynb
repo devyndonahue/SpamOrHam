{
 "cells": [
  {
   "cell_type": "markdown",
   "metadata": {},
   "source": [
    "# Project 2: Spam/Ham Prediction\n",
    "\n",
    "In this project, you will use what you've learned in class to create a classifier that can distinguish spam emails from ham (non-spam) emails.\n",
    "\n",
    "We'll walk you through a couple steps to get you started, but this project is almost entirely open-ended. Instead of providing you with a skeleton to fill in, we will evaluate your work based on your model's accuracy and your written responses in this notebook."
   ]
  },
  {
   "cell_type": "markdown",
   "metadata": {},
   "source": [
    "## Kaggle\n",
    "\n",
    "This project is a bit different from the other assignments in this class because we are using Kaggle to evaluate your model's accuracy. Kaggle is a website that hosts machine learning competitions.\n",
    "\n",
    "We've created a competition just for this project: https://www.kaggle.com/t/433a6bca95f94a78a0d2a6e7e8b311c3\n",
    "\n",
    "Here's how submitting to Kaggle works:\n",
    "\n",
    "1. You will create a classifier using the training dataset.\n",
    "2. You will use your classifier to make predictions on the test dataset.\n",
    "3. You will upload your predictions as a CSV to https://www.kaggle.com/t/433a6bca95f94a78a0d2a6e7e8b311c3\n",
    "4. The website will tell you your accuracy on the test set. You may only do this twice a day. You must reach a test set accuracy of **88%** in order to get full credit for the Kaggle portion of the assignment.\n",
    "\n",
    "(After the assignment ends, we will evaluate your accuracy on a private test set to ensure that you aren't overfitting to the test set.)"
   ]
  },
  {
   "cell_type": "markdown",
   "metadata": {},
   "source": [
    "## Submission\n",
    "\n",
    "This project has no ok tests (and no autograder). Instead, you will submit the following:\n",
    "\n",
    "0. **Your notebook to OkPy**. You can do this by running the `ok.submit()` cell at the bottom of this notebook. Note that there is no autograder for this assignment so you will not receive autograder emails.\n",
    "0. **Your notebook's written answers to GradeScope.** The cell to export the notebook is located at the bottom of this notebook. If you have trouble converting your notebook to PDF, you may upload your notebook to http://datahub.berkeley.edu/ and run the cell there.\n",
    "0. **Your model's predictions on the test set to Kaggle**, a website that hosts machine learning competitions. Kaggle will output your your accuracy on the test set so that you will know whether you've met the accuracy threshold or not.\n",
    "\n",
    "**To prevent you from fitting to the test set, you may only upload predictions to Kaggle twice per day.** This means you should start early. In addition, if you decide to pair with someone else, your group only gets two submissions per day (not four).\n",
    "\n",
    "This project (notebook + Gradescope submissions) is officially due Friday, Dec 1 at 11:59:59pm since we can't make assignments due after classes end. However, we will accept submissions until **Monday, Dec 4 at 11:59:59pm** without using slip days. Submissions after Dec 4 will use 1 slip day each day after Dec 4. The Kaggle competition will remain open until **Saturday Dec 9 at 11:59:59pm**.\n",
    "\n",
    "**No late Kaggle submissions will be accepted** since we've taken slip days into account when setting the Kaggle deadline. You will not use slip days for Kaggle submissions."
   ]
  },
  {
   "cell_type": "markdown",
   "metadata": {},
   "source": [
    "## Grading\n",
    "Grading will be based on a number of set criteria, enumerated below:\n",
    "\n",
    "Task | Description\n",
    "--- | ---\n",
    "Basic Classifier | You succesfully implement our guided basic logistic regression classifier.\n",
    "EDA | You create four exploratory plots that help explain your feature choices.\n",
    "Feature Selection | You explain and justify your feature selection process\n",
    "Written Questions | You answer the written questions that we place throughout this notebook.\n",
    "Kaggle Accuracy | Your model beats the prediction accuracy threshold of **88%**. This is attainable with a well-thought-out model.\n",
    "\n",
    "**You are allowed to work in groups of 2 for this assignment!** If you decide to partner with someone else, make sure you do the following:\n",
    "\n",
    "1. Have one person in the group invite the other on OkPy: https://okpy.org/cal/ds100/fa17/proj2/\n",
    "1. Have one person in the group invite the other person on Gradescope.\n",
    "1. Have one person in the group invite the other person on Kaggle: https://www.kaggle.com/t/433a6bca95f94a78a0d2a6e7e8b311c3"
   ]
  },
  {
   "cell_type": "markdown",
   "metadata": {},
   "source": [
    "## Prizes\n",
    "\n",
    "Although you need to reach 88% accuracy in order to get full credit, we will reward those that create great classifiers.\n",
    "\n",
    "The top 10 students on the Kaggle leaderboard, evaluated by their score in the private test set will: \n",
    "\n",
    "1. Have bragging rights \n",
    "2. Be invited to attend a lunch at the Faculty Club, hosted by Professors Gonzalez and Nolan.\n",
    "\n",
    "## Restrictions\n",
    "\n",
    "While we want you to be creative with your models, we want to make it fair to students who are seeing these techniques for the first time.  As such, **you are only allowed to train logistic regression models and their regularized forms**.  This means no random forest, CART, neural nets, etc.  However, you are free to feature engineer to your heart's content.  Remember that domain knowledge is the third component of data science."
   ]
  },
  {
   "cell_type": "markdown",
   "metadata": {},
   "source": [
    "## Getting Started"
   ]
  },
  {
   "cell_type": "code",
   "execution_count": 3,
   "metadata": {},
   "outputs": [],
   "source": [
    "# Run this cell to set up your notebook\n",
    "import seaborn as sns\n",
    "import csv\n",
    "import numpy as np\n",
    "import pandas as pd\n",
    "import matplotlib.pyplot as plt\n",
    "%matplotlib inline\n",
    "sns.set()\n",
    "sns.set_context(\"talk\")\n",
    "\n",
    "from IPython.display import display, Latex, Markdown, HTML, Javascript\n",
    "# from client.api.notebook import Notebook\n",
    "# ok = Notebook('proj2.ok')"
   ]
  },
  {
   "cell_type": "markdown",
   "metadata": {},
   "source": [
    "For your convenience, run this cell to highlight the written response cells in light blue. Only the highlighted cells will be converted to the GradeScope PDF, so put your written answers there.\n",
    "\n",
    "Unfortunately, you'll have to run this each time you open your notebook to highlight cells."
   ]
  },
  {
   "cell_type": "code",
   "execution_count": 4,
   "metadata": {},
   "outputs": [
    {
     "data": {
      "application/javascript": [
       "\n",
       "Jupyter.notebook.get_cells().map(function(cell) {\n",
       "  var tags = cell.metadata.tags\n",
       "  if (tags && tags.indexOf('written') >= 0)\n",
       "    cell.element.css('background-color', '#efefff')\n",
       "})\n"
      ],
      "text/plain": [
       "<IPython.core.display.Javascript object>"
      ]
     },
     "metadata": {},
     "output_type": "display_data"
    }
   ],
   "source": [
    "highlight_cells = '''\n",
    "Jupyter.notebook.get_cells().map(function(cell) {\n",
    "  var tags = cell.metadata.tags\n",
    "  if (tags && tags.indexOf('written') >= 0)\n",
    "    cell.element.css('background-color', '#efefff')\n",
    "})\n",
    "'''\n",
    "display(Javascript(highlight_cells))"
   ]
  },
  {
   "cell_type": "markdown",
   "metadata": {},
   "source": [
    "## Loading in the Data\n",
    "\n",
    "The dataset consists of email messages and their labels (0 for ham, 1 for spam). The training set contains 8348 labeled examples, and the test set contains 1000 unlabeled examples.\n",
    "\n",
    "Run the following cells to load in the data into DataFrames.\n",
    "\n",
    "The `train` DataFrame contains labeled data that you will use to train your model. It contains three columns:\n",
    "\n",
    "1. `id`: An identifier for the training example.\n",
    "1. `subject`: The subject of the email\n",
    "1. `email`: The text of the email.\n",
    "1. `spam`: 1 if the email was spam, 0 if the email was ham (not spam).\n",
    "\n",
    "The `test` DataFrame contains another set of 1000 unlabeled examples. You will predict labels for these examples and submit your predictions to Kaggle for evaluation."
   ]
  },
  {
   "cell_type": "code",
   "execution_count": 5,
   "metadata": {
    "scrolled": true
   },
   "outputs": [
    {
     "data": {
      "text/html": [
       "<div>\n",
       "<style scoped>\n",
       "    .dataframe tbody tr th:only-of-type {\n",
       "        vertical-align: middle;\n",
       "    }\n",
       "\n",
       "    .dataframe tbody tr th {\n",
       "        vertical-align: top;\n",
       "    }\n",
       "\n",
       "    .dataframe thead th {\n",
       "        text-align: right;\n",
       "    }\n",
       "</style>\n",
       "<table border=\"1\" class=\"dataframe\">\n",
       "  <thead>\n",
       "    <tr style=\"text-align: right;\">\n",
       "      <th></th>\n",
       "      <th>id</th>\n",
       "      <th>subject</th>\n",
       "      <th>email</th>\n",
       "      <th>spam</th>\n",
       "    </tr>\n",
       "  </thead>\n",
       "  <tbody>\n",
       "    <tr>\n",
       "      <th>0</th>\n",
       "      <td>0</td>\n",
       "      <td>Subject: A&amp;L Daily to be auctioned in bankrupt...</td>\n",
       "      <td>url: http://boingboing.net/#85534171\\n date: n...</td>\n",
       "      <td>0</td>\n",
       "    </tr>\n",
       "    <tr>\n",
       "      <th>1</th>\n",
       "      <td>1</td>\n",
       "      <td>Subject: Wired: \"Stronger ties between ISPs an...</td>\n",
       "      <td>url: http://scriptingnews.userland.com/backiss...</td>\n",
       "      <td>0</td>\n",
       "    </tr>\n",
       "    <tr>\n",
       "      <th>2</th>\n",
       "      <td>2</td>\n",
       "      <td>Subject: It's just too small                  ...</td>\n",
       "      <td>&lt;html&gt;\\n &lt;head&gt;\\n &lt;/head&gt;\\n &lt;body&gt;\\n &lt;font siz...</td>\n",
       "      <td>1</td>\n",
       "    </tr>\n",
       "    <tr>\n",
       "      <th>3</th>\n",
       "      <td>3</td>\n",
       "      <td>Subject: liberal defnitions\\n</td>\n",
       "      <td>depends on how much over spending vs. how much...</td>\n",
       "      <td>0</td>\n",
       "    </tr>\n",
       "    <tr>\n",
       "      <th>4</th>\n",
       "      <td>4</td>\n",
       "      <td>Subject: RE: [ILUG] Newbie seeks advice - Suse...</td>\n",
       "      <td>hehe sorry but if you hit caps lock twice the ...</td>\n",
       "      <td>0</td>\n",
       "    </tr>\n",
       "    <tr>\n",
       "      <th>5</th>\n",
       "      <td>5</td>\n",
       "      <td>Subject: Five\\n</td>\n",
       "      <td>url: http://diveintomark.org/archives/2002/10/...</td>\n",
       "      <td>0</td>\n",
       "    </tr>\n",
       "    <tr>\n",
       "      <th>6</th>\n",
       "      <td>6</td>\n",
       "      <td>Subject: [SAdev] [Bug 1006] Spamassassin's bui...</td>\n",
       "      <td>http://www.hughes-family.org/bugzilla/show_bug...</td>\n",
       "      <td>0</td>\n",
       "    </tr>\n",
       "    <tr>\n",
       "      <th>7</th>\n",
       "      <td>7</td>\n",
       "      <td>Subject: One of a kind Money maker! Try it for...</td>\n",
       "      <td>------000000000000000000000\\n content-type: te...</td>\n",
       "      <td>1</td>\n",
       "    </tr>\n",
       "    <tr>\n",
       "      <th>8</th>\n",
       "      <td>8</td>\n",
       "      <td>Subject: freshrpms.net resources (was Re: use ...</td>\n",
       "      <td>once upon a time, brian wrote :\\n \\n &gt;    yeah...</td>\n",
       "      <td>0</td>\n",
       "    </tr>\n",
       "    <tr>\n",
       "      <th>9</th>\n",
       "      <td>9</td>\n",
       "      <td>Subject: use of base image / delta image for a...</td>\n",
       "      <td>hi,\\n \\n i was inspired by a mode of operation...</td>\n",
       "      <td>0</td>\n",
       "    </tr>\n",
       "    <tr>\n",
       "      <th>10</th>\n",
       "      <td>10</td>\n",
       "      <td>Subject: Is Your Family Protected?\\n</td>\n",
       "      <td>&lt;html&gt;\\n &lt;head&gt;\\n &lt;title&gt;reliaquote - save up ...</td>\n",
       "      <td>1</td>\n",
       "    </tr>\n",
       "    <tr>\n",
       "      <th>11</th>\n",
       "      <td>11</td>\n",
       "      <td>Subject: Re: Entrepreneurs\\n</td>\n",
       "      <td>there's been well documented articles, studies...</td>\n",
       "      <td>0</td>\n",
       "    </tr>\n",
       "    <tr>\n",
       "      <th>12</th>\n",
       "      <td>12</td>\n",
       "      <td>Subject: [IIU] Viruses and Bounced Mail\\n</td>\n",
       "      <td>all,\\n \\n is it just me or has there been a ma...</td>\n",
       "      <td>0</td>\n",
       "    </tr>\n",
       "    <tr>\n",
       "      <th>13</th>\n",
       "      <td>13</td>\n",
       "      <td>Subject: Re: The GOv gets tough on Net Users.....</td>\n",
       "      <td>on fri, 23 aug 2002, tom wrote:\\n \\n &gt; from ht...</td>\n",
       "      <td>0</td>\n",
       "    </tr>\n",
       "    <tr>\n",
       "      <th>14</th>\n",
       "      <td>14</td>\n",
       "      <td>Subject: MULTIPLY YOUR CUSTOMER BASE!\\n</td>\n",
       "      <td>dear ricardo1 ,\\n \\n &lt;html&gt;\\n &lt;body&gt;\\n &lt;center...</td>\n",
       "      <td>1</td>\n",
       "    </tr>\n",
       "    <tr>\n",
       "      <th>15</th>\n",
       "      <td>15</td>\n",
       "      <td>Subject: Re: [ILUG] inputting chinese characte...</td>\n",
       "      <td>| date: wed, 31 jul 2002 23:11:49 +0800\\n   ...</td>\n",
       "      <td>0</td>\n",
       "    </tr>\n",
       "    <tr>\n",
       "      <th>16</th>\n",
       "      <td>16</td>\n",
       "      <td>Subject: hello everybody\\n</td>\n",
       "      <td>hi everybody !\\n \\n my name is gilles, i'm 19 ...</td>\n",
       "      <td>0</td>\n",
       "    </tr>\n",
       "    <tr>\n",
       "      <th>17</th>\n",
       "      <td>17</td>\n",
       "      <td>Subject: National Charity Suffering Since 9/11\\n</td>\n",
       "      <td>&lt;body bgcolor=#ffffff&gt;\\n &lt;div&gt;&lt;font face=arial...</td>\n",
       "      <td>1</td>\n",
       "    </tr>\n",
       "    <tr>\n",
       "      <th>18</th>\n",
       "      <td>18</td>\n",
       "      <td>Subject: [Spambayes] test sets?\\n</td>\n",
       "      <td>&gt; &gt; but it also identified as spam everything ...</td>\n",
       "      <td>0</td>\n",
       "    </tr>\n",
       "    <tr>\n",
       "      <th>19</th>\n",
       "      <td>19</td>\n",
       "      <td>Subject: Re: traceback in new exmh\\n</td>\n",
       "      <td>--==_exmh_-1249285507p\\n content-type: text/pl...</td>\n",
       "      <td>0</td>\n",
       "    </tr>\n",
       "    <tr>\n",
       "      <th>20</th>\n",
       "      <td>20</td>\n",
       "      <td>Subject: [Razor-users] Collision of hashes?\\n</td>\n",
       "      <td>the following was personal correspondence betw...</td>\n",
       "      <td>0</td>\n",
       "    </tr>\n",
       "    <tr>\n",
       "      <th>21</th>\n",
       "      <td>21</td>\n",
       "      <td>Subject: Time Share\\n</td>\n",
       "      <td>interested in renting or selling your\\n timesh...</td>\n",
       "      <td>1</td>\n",
       "    </tr>\n",
       "    <tr>\n",
       "      <th>22</th>\n",
       "      <td>22</td>\n",
       "      <td>Subject: /home/dude\\n</td>\n",
       "      <td>hi,\\n \\n some time now the following messages ...</td>\n",
       "      <td>0</td>\n",
       "    </tr>\n",
       "    <tr>\n",
       "      <th>23</th>\n",
       "      <td>23</td>\n",
       "      <td>Subject: The Stickiest Faces Ever!!!!\\n</td>\n",
       "      <td>&lt;html&gt;\\n &lt;body&gt;\\n &lt;p&gt;shoot your wad all over h...</td>\n",
       "      <td>1</td>\n",
       "    </tr>\n",
       "    <tr>\n",
       "      <th>24</th>\n",
       "      <td>24</td>\n",
       "      <td>Subject: [use Perl] Headlines for 2002-08-20\\n</td>\n",
       "      <td>use perl daily headline mailer\\n \\n call for p...</td>\n",
       "      <td>0</td>\n",
       "    </tr>\n",
       "    <tr>\n",
       "      <th>25</th>\n",
       "      <td>25</td>\n",
       "      <td>Subject: [use Perl] Headlines for 2002-07-20\\n</td>\n",
       "      <td>use perl daily headline mailer\\n \\n last call ...</td>\n",
       "      <td>0</td>\n",
       "    </tr>\n",
       "    <tr>\n",
       "      <th>26</th>\n",
       "      <td>26</td>\n",
       "      <td>Subject: Re: use new apt to do null to RH8 upg...</td>\n",
       "      <td>matthias saou (matthias@egwn.net) wrote*:\\n &gt;a...</td>\n",
       "      <td>0</td>\n",
       "    </tr>\n",
       "    <tr>\n",
       "      <th>27</th>\n",
       "      <td>27</td>\n",
       "      <td>Subject: Switcher\\n</td>\n",
       "      <td>url: http://diveintomark.org/archives/2002/10/...</td>\n",
       "      <td>0</td>\n",
       "    </tr>\n",
       "    <tr>\n",
       "      <th>28</th>\n",
       "      <td>28</td>\n",
       "      <td>Subject: Executive pay leaps ahead 17%\\n</td>\n",
       "      <td>url: http://www.newsisfree.com/click/-5,853546...</td>\n",
       "      <td>0</td>\n",
       "    </tr>\n",
       "    <tr>\n",
       "      <th>29</th>\n",
       "      <td>29</td>\n",
       "      <td>Subject: 7000  ַؼۣ\\n</td>\n",
       "      <td>dear cypherpunks =2c\\n \\n =3cbody bgcolor=3d#f...</td>\n",
       "      <td>1</td>\n",
       "    </tr>\n",
       "    <tr>\n",
       "      <th>...</th>\n",
       "      <td>...</td>\n",
       "      <td>...</td>\n",
       "      <td>...</td>\n",
       "      <td>...</td>\n",
       "    </tr>\n",
       "    <tr>\n",
       "      <th>8318</th>\n",
       "      <td>8318</td>\n",
       "      <td>Subject: Market Internet Access - No Investmen...</td>\n",
       "      <td>market internet access \\n \\n no investment nee...</td>\n",
       "      <td>1</td>\n",
       "    </tr>\n",
       "    <tr>\n",
       "      <th>8319</th>\n",
       "      <td>8319</td>\n",
       "      <td>Subject: Re: Selling Wedded Bliss (was Re: Ouc...</td>\n",
       "      <td>turpin:\\n &gt;&gt;do we have any statistics on the p...</td>\n",
       "      <td>0</td>\n",
       "    </tr>\n",
       "    <tr>\n",
       "      <th>8320</th>\n",
       "      <td>8320</td>\n",
       "      <td>Subject: [ILUG] PCTel modules\\n</td>\n",
       "      <td>hello again. i tried all the suggestions for t...</td>\n",
       "      <td>0</td>\n",
       "    </tr>\n",
       "    <tr>\n",
       "      <th>8321</th>\n",
       "      <td>8321</td>\n",
       "      <td>Subject: Re: introductions\\n</td>\n",
       "      <td>i'd like to claim the parenthood of desktop we...</td>\n",
       "      <td>0</td>\n",
       "    </tr>\n",
       "    <tr>\n",
       "      <th>8322</th>\n",
       "      <td>8322</td>\n",
       "      <td>Subject: WWW Form Submission\\n</td>\n",
       "      <td>below is the result of your feedback form.  it...</td>\n",
       "      <td>1</td>\n",
       "    </tr>\n",
       "    <tr>\n",
       "      <th>8323</th>\n",
       "      <td>8323</td>\n",
       "      <td>Subject: 'Flexible' retirement gains ground\\n</td>\n",
       "      <td>url: http://www.newsisfree.com/click/-4,872400...</td>\n",
       "      <td>0</td>\n",
       "    </tr>\n",
       "    <tr>\n",
       "      <th>8324</th>\n",
       "      <td>8324</td>\n",
       "      <td>Subject: How many \"inches\" do you need to sati...</td>\n",
       "      <td>&lt;html&gt;\\n &lt;body&gt;\\n &lt;p&gt;67% of women desire a &amp;qu...</td>\n",
       "      <td>1</td>\n",
       "    </tr>\n",
       "    <tr>\n",
       "      <th>8325</th>\n",
       "      <td>8325</td>\n",
       "      <td>Subject: Re: New Sequences Window\\n</td>\n",
       "      <td>--==_exmh_-398538836p\\n content-type: text/pla...</td>\n",
       "      <td>0</td>\n",
       "    </tr>\n",
       "    <tr>\n",
       "      <th>8326</th>\n",
       "      <td>8326</td>\n",
       "      <td>Subject: Re: FW: use of base image / delta ima...</td>\n",
       "      <td>scott mackenzie wrote:\\n \\n &gt;there is a softwa...</td>\n",
       "      <td>0</td>\n",
       "    </tr>\n",
       "    <tr>\n",
       "      <th>8327</th>\n",
       "      <td>8327</td>\n",
       "      <td>Subject: [SAdev] [Bug 1075] RPM build puts wro...</td>\n",
       "      <td>http://www.hughes-family.org/bugzilla/show_bug...</td>\n",
       "      <td>0</td>\n",
       "    </tr>\n",
       "    <tr>\n",
       "      <th>8328</th>\n",
       "      <td>8328</td>\n",
       "      <td>Subject: 'Stay on to 70' call grows\\n</td>\n",
       "      <td>url: http://www.newsisfree.com/click/-1,862212...</td>\n",
       "      <td>0</td>\n",
       "    </tr>\n",
       "    <tr>\n",
       "      <th>8329</th>\n",
       "      <td>8329</td>\n",
       "      <td>Subject: Apple Switch parodies\\n</td>\n",
       "      <td>url: http://www.askbjoernhansen.com/archives/2...</td>\n",
       "      <td>0</td>\n",
       "    </tr>\n",
       "    <tr>\n",
       "      <th>8330</th>\n",
       "      <td>8330</td>\n",
       "      <td>Subject: RE: Re[2]: Selling Wedded Bliss (was ...</td>\n",
       "      <td>why should i?  (:\\n c\\n \\n on fri, 6 sep 2002,...</td>\n",
       "      <td>0</td>\n",
       "    </tr>\n",
       "    <tr>\n",
       "      <th>8331</th>\n",
       "      <td>8331</td>\n",
       "      <td>Subject: RE: [SAtalk] user_prefs ignored\\n</td>\n",
       "      <td>this is just an semi-educated guess - if i'm w...</td>\n",
       "      <td>0</td>\n",
       "    </tr>\n",
       "    <tr>\n",
       "      <th>8332</th>\n",
       "      <td>8332</td>\n",
       "      <td>Subject: [Spambayes] test sets?\\n</td>\n",
       "      <td>[guido]\\n &gt; perhaps more useful would be if ti...</td>\n",
       "      <td>0</td>\n",
       "    </tr>\n",
       "    <tr>\n",
       "      <th>8333</th>\n",
       "      <td>8333</td>\n",
       "      <td>Subject: False teeth to fake limbs, crazy thin...</td>\n",
       "      <td>url: http://www.newsisfree.com/click/-1,840472...</td>\n",
       "      <td>0</td>\n",
       "    </tr>\n",
       "    <tr>\n",
       "      <th>8334</th>\n",
       "      <td>8334</td>\n",
       "      <td>Subject: [IRR] Re: The 3rd Annual Consult Hype...</td>\n",
       "      <td>on 4/10/02 1:13 am, someone e-said:\\n \\n &gt; the...</td>\n",
       "      <td>0</td>\n",
       "    </tr>\n",
       "    <tr>\n",
       "      <th>8335</th>\n",
       "      <td>8335</td>\n",
       "      <td>Subject: GDC 2002: Game Scripting in Python\\n</td>\n",
       "      <td>url: http://www.newsisfree.com/click/-0,861366...</td>\n",
       "      <td>0</td>\n",
       "    </tr>\n",
       "    <tr>\n",
       "      <th>8336</th>\n",
       "      <td>8336</td>\n",
       "      <td>Subject: [Spambayes] Deployment\\n</td>\n",
       "      <td>did you want this on the list? i'm replying to...</td>\n",
       "      <td>0</td>\n",
       "    </tr>\n",
       "    <tr>\n",
       "      <th>8337</th>\n",
       "      <td>8337</td>\n",
       "      <td>Subject: Re: How unlucky can you get?\\n</td>\n",
       "      <td>actually, this is common. i've known a couple ...</td>\n",
       "      <td>0</td>\n",
       "    </tr>\n",
       "    <tr>\n",
       "      <th>8338</th>\n",
       "      <td>8338</td>\n",
       "      <td>Subject: The Disappearing Alliance\\n</td>\n",
       "      <td>http://www.techcentralstation.com/1051/printer...</td>\n",
       "      <td>0</td>\n",
       "    </tr>\n",
       "    <tr>\n",
       "      <th>8339</th>\n",
       "      <td>8339</td>\n",
       "      <td>Subject: More on promiscuity and word choice R...</td>\n",
       "      <td>robert harley writes:\\n &gt; &gt;ok, then. consider ...</td>\n",
       "      <td>0</td>\n",
       "    </tr>\n",
       "    <tr>\n",
       "      <th>8340</th>\n",
       "      <td>8340</td>\n",
       "      <td>Subject: Toddler falls from a first-storey win...</td>\n",
       "      <td>url: http://www.newsisfree.com/click/-1,839867...</td>\n",
       "      <td>0</td>\n",
       "    </tr>\n",
       "    <tr>\n",
       "      <th>8341</th>\n",
       "      <td>8341</td>\n",
       "      <td>Subject: Re: Help! I've lost my exmh-unseen wi...</td>\n",
       "      <td>&gt;\\n &gt;\\ti'll have to try it with another window...</td>\n",
       "      <td>0</td>\n",
       "    </tr>\n",
       "    <tr>\n",
       "      <th>8342</th>\n",
       "      <td>8342</td>\n",
       "      <td>Subject: Missing Fleet Week\\n</td>\n",
       "      <td>url: http://jeremy.zawodny.com/blog/archives/0...</td>\n",
       "      <td>0</td>\n",
       "    </tr>\n",
       "    <tr>\n",
       "      <th>8343</th>\n",
       "      <td>8343</td>\n",
       "      <td>Subject: Re: ALSA (almost) made easy\\n</td>\n",
       "      <td>thanks for this, i'm going to give them anothe...</td>\n",
       "      <td>0</td>\n",
       "    </tr>\n",
       "    <tr>\n",
       "      <th>8344</th>\n",
       "      <td>8344</td>\n",
       "      <td>Subject: Re: Goodbye Global Warming\\n</td>\n",
       "      <td>thanks for the link - i'm fascinated by archae...</td>\n",
       "      <td>0</td>\n",
       "    </tr>\n",
       "    <tr>\n",
       "      <th>8345</th>\n",
       "      <td>8345</td>\n",
       "      <td>Subject: hello\\n</td>\n",
       "      <td>we need help.  we are a 14 year old fortune 50...</td>\n",
       "      <td>1</td>\n",
       "    </tr>\n",
       "    <tr>\n",
       "      <th>8346</th>\n",
       "      <td>8346</td>\n",
       "      <td>Subject: Your application is below. Expires Ju...</td>\n",
       "      <td>&lt;html&gt;\\n \\n \\n &lt;head&gt; \\n &lt;meta charset=3dutf-8...</td>\n",
       "      <td>1</td>\n",
       "    </tr>\n",
       "    <tr>\n",
       "      <th>8347</th>\n",
       "      <td>8347</td>\n",
       "      <td>Subject: Re: [SAtalk] CONFIDENTIAL\\n</td>\n",
       "      <td>on wed, 2002-08-21 at 06:42, craig r.hughes wr...</td>\n",
       "      <td>0</td>\n",
       "    </tr>\n",
       "  </tbody>\n",
       "</table>\n",
       "<p>8348 rows × 4 columns</p>\n",
       "</div>"
      ],
      "text/plain": [
       "        id                                            subject  \\\n",
       "0        0  Subject: A&L Daily to be auctioned in bankrupt...   \n",
       "1        1  Subject: Wired: \"Stronger ties between ISPs an...   \n",
       "2        2  Subject: It's just too small                  ...   \n",
       "3        3                      Subject: liberal defnitions\\n   \n",
       "4        4  Subject: RE: [ILUG] Newbie seeks advice - Suse...   \n",
       "5        5                                    Subject: Five\\n   \n",
       "6        6  Subject: [SAdev] [Bug 1006] Spamassassin's bui...   \n",
       "7        7  Subject: One of a kind Money maker! Try it for...   \n",
       "8        8  Subject: freshrpms.net resources (was Re: use ...   \n",
       "9        9  Subject: use of base image / delta image for a...   \n",
       "10      10               Subject: Is Your Family Protected?\\n   \n",
       "11      11                       Subject: Re: Entrepreneurs\\n   \n",
       "12      12          Subject: [IIU] Viruses and Bounced Mail\\n   \n",
       "13      13  Subject: Re: The GOv gets tough on Net Users.....   \n",
       "14      14            Subject: MULTIPLY YOUR CUSTOMER BASE!\\n   \n",
       "15      15  Subject: Re: [ILUG] inputting chinese characte...   \n",
       "16      16                         Subject: hello everybody\\n   \n",
       "17      17   Subject: National Charity Suffering Since 9/11\\n   \n",
       "18      18                  Subject: [Spambayes] test sets?\\n   \n",
       "19      19               Subject: Re: traceback in new exmh\\n   \n",
       "20      20      Subject: [Razor-users] Collision of hashes?\\n   \n",
       "21      21                              Subject: Time Share\\n   \n",
       "22      22                              Subject: /home/dude\\n   \n",
       "23      23            Subject: The Stickiest Faces Ever!!!!\\n   \n",
       "24      24     Subject: [use Perl] Headlines for 2002-08-20\\n   \n",
       "25      25     Subject: [use Perl] Headlines for 2002-07-20\\n   \n",
       "26      26  Subject: Re: use new apt to do null to RH8 upg...   \n",
       "27      27                                Subject: Switcher\\n   \n",
       "28      28           Subject: Executive pay leaps ahead 17%\\n   \n",
       "29      29                               Subject: 7000  ַؼۣ\\n   \n",
       "...    ...                                                ...   \n",
       "8318  8318  Subject: Market Internet Access - No Investmen...   \n",
       "8319  8319  Subject: Re: Selling Wedded Bliss (was Re: Ouc...   \n",
       "8320  8320                    Subject: [ILUG] PCTel modules\\n   \n",
       "8321  8321                       Subject: Re: introductions\\n   \n",
       "8322  8322                     Subject: WWW Form Submission\\n   \n",
       "8323  8323      Subject: 'Flexible' retirement gains ground\\n   \n",
       "8324  8324  Subject: How many \"inches\" do you need to sati...   \n",
       "8325  8325                Subject: Re: New Sequences Window\\n   \n",
       "8326  8326  Subject: Re: FW: use of base image / delta ima...   \n",
       "8327  8327  Subject: [SAdev] [Bug 1075] RPM build puts wro...   \n",
       "8328  8328              Subject: 'Stay on to 70' call grows\\n   \n",
       "8329  8329                   Subject: Apple Switch parodies\\n   \n",
       "8330  8330  Subject: RE: Re[2]: Selling Wedded Bliss (was ...   \n",
       "8331  8331         Subject: RE: [SAtalk] user_prefs ignored\\n   \n",
       "8332  8332                  Subject: [Spambayes] test sets?\\n   \n",
       "8333  8333  Subject: False teeth to fake limbs, crazy thin...   \n",
       "8334  8334  Subject: [IRR] Re: The 3rd Annual Consult Hype...   \n",
       "8335  8335      Subject: GDC 2002: Game Scripting in Python\\n   \n",
       "8336  8336                  Subject: [Spambayes] Deployment\\n   \n",
       "8337  8337            Subject: Re: How unlucky can you get?\\n   \n",
       "8338  8338               Subject: The Disappearing Alliance\\n   \n",
       "8339  8339  Subject: More on promiscuity and word choice R...   \n",
       "8340  8340  Subject: Toddler falls from a first-storey win...   \n",
       "8341  8341  Subject: Re: Help! I've lost my exmh-unseen wi...   \n",
       "8342  8342                      Subject: Missing Fleet Week\\n   \n",
       "8343  8343             Subject: Re: ALSA (almost) made easy\\n   \n",
       "8344  8344              Subject: Re: Goodbye Global Warming\\n   \n",
       "8345  8345                                   Subject: hello\\n   \n",
       "8346  8346  Subject: Your application is below. Expires Ju...   \n",
       "8347  8347               Subject: Re: [SAtalk] CONFIDENTIAL\\n   \n",
       "\n",
       "                                                  email  spam  \n",
       "0     url: http://boingboing.net/#85534171\\n date: n...     0  \n",
       "1     url: http://scriptingnews.userland.com/backiss...     0  \n",
       "2     <html>\\n <head>\\n </head>\\n <body>\\n <font siz...     1  \n",
       "3     depends on how much over spending vs. how much...     0  \n",
       "4     hehe sorry but if you hit caps lock twice the ...     0  \n",
       "5     url: http://diveintomark.org/archives/2002/10/...     0  \n",
       "6     http://www.hughes-family.org/bugzilla/show_bug...     0  \n",
       "7     ------000000000000000000000\\n content-type: te...     1  \n",
       "8     once upon a time, brian wrote :\\n \\n >    yeah...     0  \n",
       "9     hi,\\n \\n i was inspired by a mode of operation...     0  \n",
       "10    <html>\\n <head>\\n <title>reliaquote - save up ...     1  \n",
       "11    there's been well documented articles, studies...     0  \n",
       "12    all,\\n \\n is it just me or has there been a ma...     0  \n",
       "13    on fri, 23 aug 2002, tom wrote:\\n \\n > from ht...     0  \n",
       "14    dear ricardo1 ,\\n \\n <html>\\n <body>\\n <center...     1  \n",
       "15      | date: wed, 31 jul 2002 23:11:49 +0800\\n   ...     0  \n",
       "16    hi everybody !\\n \\n my name is gilles, i'm 19 ...     0  \n",
       "17    <body bgcolor=#ffffff>\\n <div><font face=arial...     1  \n",
       "18    > > but it also identified as spam everything ...     0  \n",
       "19    --==_exmh_-1249285507p\\n content-type: text/pl...     0  \n",
       "20    the following was personal correspondence betw...     0  \n",
       "21    interested in renting or selling your\\n timesh...     1  \n",
       "22    hi,\\n \\n some time now the following messages ...     0  \n",
       "23    <html>\\n <body>\\n <p>shoot your wad all over h...     1  \n",
       "24    use perl daily headline mailer\\n \\n call for p...     0  \n",
       "25    use perl daily headline mailer\\n \\n last call ...     0  \n",
       "26    matthias saou (matthias@egwn.net) wrote*:\\n >a...     0  \n",
       "27    url: http://diveintomark.org/archives/2002/10/...     0  \n",
       "28    url: http://www.newsisfree.com/click/-5,853546...     0  \n",
       "29    dear cypherpunks =2c\\n \\n =3cbody bgcolor=3d#f...     1  \n",
       "...                                                 ...   ...  \n",
       "8318  market internet access \\n \\n no investment nee...     1  \n",
       "8319  turpin:\\n >>do we have any statistics on the p...     0  \n",
       "8320  hello again. i tried all the suggestions for t...     0  \n",
       "8321  i'd like to claim the parenthood of desktop we...     0  \n",
       "8322  below is the result of your feedback form.  it...     1  \n",
       "8323  url: http://www.newsisfree.com/click/-4,872400...     0  \n",
       "8324  <html>\\n <body>\\n <p>67% of women desire a &qu...     1  \n",
       "8325  --==_exmh_-398538836p\\n content-type: text/pla...     0  \n",
       "8326  scott mackenzie wrote:\\n \\n >there is a softwa...     0  \n",
       "8327  http://www.hughes-family.org/bugzilla/show_bug...     0  \n",
       "8328  url: http://www.newsisfree.com/click/-1,862212...     0  \n",
       "8329  url: http://www.askbjoernhansen.com/archives/2...     0  \n",
       "8330  why should i?  (:\\n c\\n \\n on fri, 6 sep 2002,...     0  \n",
       "8331  this is just an semi-educated guess - if i'm w...     0  \n",
       "8332  [guido]\\n > perhaps more useful would be if ti...     0  \n",
       "8333  url: http://www.newsisfree.com/click/-1,840472...     0  \n",
       "8334  on 4/10/02 1:13 am, someone e-said:\\n \\n > the...     0  \n",
       "8335  url: http://www.newsisfree.com/click/-0,861366...     0  \n",
       "8336  did you want this on the list? i'm replying to...     0  \n",
       "8337  actually, this is common. i've known a couple ...     0  \n",
       "8338  http://www.techcentralstation.com/1051/printer...     0  \n",
       "8339  robert harley writes:\\n > >ok, then. consider ...     0  \n",
       "8340  url: http://www.newsisfree.com/click/-1,839867...     0  \n",
       "8341  >\\n >\\ti'll have to try it with another window...     0  \n",
       "8342  url: http://jeremy.zawodny.com/blog/archives/0...     0  \n",
       "8343  thanks for this, i'm going to give them anothe...     0  \n",
       "8344  thanks for the link - i'm fascinated by archae...     0  \n",
       "8345  we need help.  we are a 14 year old fortune 50...     1  \n",
       "8346  <html>\\n \\n \\n <head> \\n <meta charset=3dutf-8...     1  \n",
       "8347  on wed, 2002-08-21 at 06:42, craig r.hughes wr...     0  \n",
       "\n",
       "[8348 rows x 4 columns]"
      ]
     },
     "execution_count": 5,
     "metadata": {},
     "output_type": "execute_result"
    }
   ],
   "source": [
    "train = pd.read_csv('train.csv')\n",
    "# We lower case the emails to make them easier to work with\n",
    "train['email'] = train['email'].str.lower()\n",
    "train"
   ]
  },
  {
   "cell_type": "code",
   "execution_count": 6,
   "metadata": {},
   "outputs": [
    {
     "data": {
      "text/html": [
       "<div>\n",
       "<style scoped>\n",
       "    .dataframe tbody tr th:only-of-type {\n",
       "        vertical-align: middle;\n",
       "    }\n",
       "\n",
       "    .dataframe tbody tr th {\n",
       "        vertical-align: top;\n",
       "    }\n",
       "\n",
       "    .dataframe thead th {\n",
       "        text-align: right;\n",
       "    }\n",
       "</style>\n",
       "<table border=\"1\" class=\"dataframe\">\n",
       "  <thead>\n",
       "    <tr style=\"text-align: right;\">\n",
       "      <th></th>\n",
       "      <th>id</th>\n",
       "      <th>subject</th>\n",
       "      <th>email</th>\n",
       "      <th>spam</th>\n",
       "    </tr>\n",
       "  </thead>\n",
       "  <tbody>\n",
       "    <tr>\n",
       "      <th>0</th>\n",
       "      <td>0</td>\n",
       "      <td>Subject: A&amp;L Daily to be auctioned in bankrupt...</td>\n",
       "      <td>URL: http://boingboing.net/#85534171\\n Date: N...</td>\n",
       "      <td>0</td>\n",
       "    </tr>\n",
       "    <tr>\n",
       "      <th>1</th>\n",
       "      <td>1</td>\n",
       "      <td>Subject: Wired: \"Stronger ties between ISPs an...</td>\n",
       "      <td>URL: http://scriptingnews.userland.com/backiss...</td>\n",
       "      <td>0</td>\n",
       "    </tr>\n",
       "    <tr>\n",
       "      <th>2</th>\n",
       "      <td>2</td>\n",
       "      <td>Subject: It's just too small                  ...</td>\n",
       "      <td>&lt;HTML&gt;\\n &lt;HEAD&gt;\\n &lt;/HEAD&gt;\\n &lt;BODY&gt;\\n &lt;FONT SIZ...</td>\n",
       "      <td>1</td>\n",
       "    </tr>\n",
       "    <tr>\n",
       "      <th>3</th>\n",
       "      <td>3</td>\n",
       "      <td>Subject: liberal defnitions\\n</td>\n",
       "      <td>Depends on how much over spending vs. how much...</td>\n",
       "      <td>0</td>\n",
       "    </tr>\n",
       "    <tr>\n",
       "      <th>4</th>\n",
       "      <td>4</td>\n",
       "      <td>Subject: RE: [ILUG] Newbie seeks advice - Suse...</td>\n",
       "      <td>hehe sorry but if you hit caps lock twice the ...</td>\n",
       "      <td>0</td>\n",
       "    </tr>\n",
       "  </tbody>\n",
       "</table>\n",
       "</div>"
      ],
      "text/plain": [
       "   id                                            subject  \\\n",
       "0   0  Subject: A&L Daily to be auctioned in bankrupt...   \n",
       "1   1  Subject: Wired: \"Stronger ties between ISPs an...   \n",
       "2   2  Subject: It's just too small                  ...   \n",
       "3   3                      Subject: liberal defnitions\\n   \n",
       "4   4  Subject: RE: [ILUG] Newbie seeks advice - Suse...   \n",
       "\n",
       "                                               email  spam  \n",
       "0  URL: http://boingboing.net/#85534171\\n Date: N...     0  \n",
       "1  URL: http://scriptingnews.userland.com/backiss...     0  \n",
       "2  <HTML>\\n <HEAD>\\n </HEAD>\\n <BODY>\\n <FONT SIZ...     1  \n",
       "3  Depends on how much over spending vs. how much...     0  \n",
       "4  hehe sorry but if you hit caps lock twice the ...     0  "
      ]
     },
     "execution_count": 6,
     "metadata": {},
     "output_type": "execute_result"
    }
   ],
   "source": [
    "train_upper= pd.read_csv('train.csv')\n",
    "train_upper.head()"
   ]
  },
  {
   "cell_type": "code",
   "execution_count": 7,
   "metadata": {},
   "outputs": [
    {
     "data": {
      "text/html": [
       "<div>\n",
       "<style scoped>\n",
       "    .dataframe tbody tr th:only-of-type {\n",
       "        vertical-align: middle;\n",
       "    }\n",
       "\n",
       "    .dataframe tbody tr th {\n",
       "        vertical-align: top;\n",
       "    }\n",
       "\n",
       "    .dataframe thead th {\n",
       "        text-align: right;\n",
       "    }\n",
       "</style>\n",
       "<table border=\"1\" class=\"dataframe\">\n",
       "  <thead>\n",
       "    <tr style=\"text-align: right;\">\n",
       "      <th></th>\n",
       "      <th>id</th>\n",
       "      <th>subject</th>\n",
       "      <th>email</th>\n",
       "    </tr>\n",
       "  </thead>\n",
       "  <tbody>\n",
       "    <tr>\n",
       "      <th>0</th>\n",
       "      <td>0</td>\n",
       "      <td>Subject: CERT Advisory CA-2002-21 Vulnerabilit...</td>\n",
       "      <td>\\n \\n -----begin pgp signed message-----\\n \\n ...</td>\n",
       "    </tr>\n",
       "    <tr>\n",
       "      <th>1</th>\n",
       "      <td>1</td>\n",
       "      <td>Subject: ADV: Affordable Life Insurance ddbfk\\n</td>\n",
       "      <td>low-cost term-life insurance!\\n save up to 70%...</td>\n",
       "    </tr>\n",
       "    <tr>\n",
       "      <th>2</th>\n",
       "      <td>2</td>\n",
       "      <td>Subject: CAREER OPPORTUNITY.  WORK FROM HOME\\n</td>\n",
       "      <td>------=_nextpart_000_00a0_03e30a1a.b1804b54\\n ...</td>\n",
       "    </tr>\n",
       "    <tr>\n",
       "      <th>3</th>\n",
       "      <td>3</td>\n",
       "      <td>Subject: Marriage makes both sexes happy\\n</td>\n",
       "      <td>url: http://www.newsisfree.com/click/-3,848315...</td>\n",
       "    </tr>\n",
       "    <tr>\n",
       "      <th>4</th>\n",
       "      <td>4</td>\n",
       "      <td>Subject: Re: [SAtalk] SA very slow (hangs?) on...</td>\n",
       "      <td>on thursday 29 august 2002 16:39 cet mike burg...</td>\n",
       "    </tr>\n",
       "  </tbody>\n",
       "</table>\n",
       "</div>"
      ],
      "text/plain": [
       "   id                                            subject  \\\n",
       "0   0  Subject: CERT Advisory CA-2002-21 Vulnerabilit...   \n",
       "1   1    Subject: ADV: Affordable Life Insurance ddbfk\\n   \n",
       "2   2     Subject: CAREER OPPORTUNITY.  WORK FROM HOME\\n   \n",
       "3   3         Subject: Marriage makes both sexes happy\\n   \n",
       "4   4  Subject: Re: [SAtalk] SA very slow (hangs?) on...   \n",
       "\n",
       "                                               email  \n",
       "0  \\n \\n -----begin pgp signed message-----\\n \\n ...  \n",
       "1  low-cost term-life insurance!\\n save up to 70%...  \n",
       "2  ------=_nextpart_000_00a0_03e30a1a.b1804b54\\n ...  \n",
       "3  url: http://www.newsisfree.com/click/-3,848315...  \n",
       "4  on thursday 29 august 2002 16:39 cet mike burg...  "
      ]
     },
     "execution_count": 7,
     "metadata": {},
     "output_type": "execute_result"
    }
   ],
   "source": [
    "test = pd.read_csv('test.csv')\n",
    "test['email'] = test['email'].str.lower()\n",
    "test.head()"
   ]
  },
  {
   "cell_type": "markdown",
   "metadata": {},
   "source": [
    "### Question 1\n",
    "\n",
    "In the cell below, print the text of the first ham and the first spam email in the training set. Then, discuss one thing you notice that is different between the two."
   ]
  },
  {
   "cell_type": "code",
   "execution_count": 8,
   "metadata": {},
   "outputs": [
    {
     "data": {
      "text/plain": [
       "'url: http://boingboing.net/#85534171\\n date: not supplied\\n \\n arts and letters daily, a wonderful and dense blog, has folded up its tent due \\n to the bankruptcy of its parent company. a&l daily will be auctioned off by the \\n receivers. link[1] discuss[2] (_thanks, misha!_)\\n \\n [1] http://www.aldaily.com/\\n [2] http://www.quicktopic.com/boing/h/zlfterjnd6jf\\n \\n \\n'"
      ]
     },
     "execution_count": 8,
     "metadata": {},
     "output_type": "execute_result"
    }
   ],
   "source": [
    "train['email'][0]"
   ]
  },
  {
   "cell_type": "code",
   "execution_count": 9,
   "metadata": {
    "tags": [
     "written",
     "q01",
     "student"
    ]
   },
   "outputs": [
    {
     "name": "stdout",
     "output_type": "stream",
     "text": [
      "url: http://boingboing.net/#85534171\n",
      " date: not supplied\n",
      " \n",
      " arts and letters daily, a wonderful and dense blog, has folded up its tent due \n",
      " to the bankruptcy of its parent company. a&l daily will be auctioned off by the \n",
      " receivers. link[1] discuss[2] (_thanks, misha!_)\n",
      " \n",
      " [1] http://www.aldaily.com/\n",
      " [2] http://www.quicktopic.com/boing/h/zlfterjnd6jf\n",
      " \n",
      " \n",
      "\n",
      "<html>\n",
      " <head>\n",
      " </head>\n",
      " <body>\n",
      " <font size=3d\"4\"><b> a man endowed with a 7-8\" hammer is simply<br>\n",
      "  better equipped than a man with a 5-6\"hammer. <br>\n",
      " <br>would you rather have<br>more than enough to get the job done or fall =\n",
      " short. it's totally up<br>to you. our methods are guaranteed to increase y=\n",
      " our size by 1-3\"<br> <a href=3d\"http://209.163.187.47/cgi-bin/index.php?10=\n",
      " 004\">come in here and see how</a>\n",
      " </body>\n",
      " </html>\n",
      " \n",
      " \n",
      " \n",
      "\n"
     ]
    },
    {
     "data": {
      "text/markdown": [
       "\n",
       "url: http://boingboing.net/#85534171\n",
       " date: not supplied\n",
       " \n",
       " arts and letters daily, a wonderful and dense blog, has folded up its tent due \n",
       " to the bankruptcy of its parent company. a&l daily will be auctioned off by the \n",
       " receivers. link[1] discuss[2] (_thanks, misha!_)\n",
       " \n",
       " [1] http://www.aldaily.com/\n",
       " [2] http://www.quicktopic.com/boing/h/zlfterjnd6jf\n",
       " \n",
       " \n",
       "\n",
       "<html>\n",
       " <head>\n",
       " </head>\n",
       " <body>\n",
       " <font size=3d\"4\"><b> a man endowed with a 7-8\" hammer is simply<br>\n",
       "  better equipped than a man with a 5-6\"hammer. <br>\n",
       " <br>would you rather have<br>more than enough to get the job done or fall =\n",
       " short. it's totally up<br>to you. our methods are guaranteed to increase y=\n",
       " our size by 1-3\"<br> <a href=3d\"http://209.163.187.47/cgi-bin/index.php?10=\n",
       " 004\">come in here and see how</a>\n",
       " </body>\n",
       " </html>\n",
       " \n"
      ],
      "text/plain": [
       "<IPython.core.display.Markdown object>"
      ]
     },
     "metadata": {},
     "output_type": "display_data"
    }
   ],
   "source": [
    "# Print the text of the first ham and the first spam emails. Then, fill in your response in the q01 variable:\n",
    "\n",
    "print(train['email'][0])\n",
    "print(train['email'][2])\n",
    "\n",
    "q01 = '''\n",
    "url: http://boingboing.net/#85534171\n",
    " date: not supplied\n",
    " \n",
    " arts and letters daily, a wonderful and dense blog, has folded up its tent due \n",
    " to the bankruptcy of its parent company. a&l daily will be auctioned off by the \n",
    " receivers. link[1] discuss[2] (_thanks, misha!_)\n",
    " \n",
    " [1] http://www.aldaily.com/\n",
    " [2] http://www.quicktopic.com/boing/h/zlfterjnd6jf\n",
    " \n",
    " \n",
    "\n",
    "<html>\n",
    " <head>\n",
    " </head>\n",
    " <body>\n",
    " <font size=3d\"4\"><b> a man endowed with a 7-8\" hammer is simply<br>\n",
    "  better equipped than a man with a 5-6\"hammer. <br>\n",
    " <br>would you rather have<br>more than enough to get the job done or fall =\n",
    " short. it's totally up<br>to you. our methods are guaranteed to increase y=\n",
    " our size by 1-3\"<br> <a href=3d\"http://209.163.187.47/cgi-bin/index.php?10=\n",
    " 004\">come in here and see how</a>\n",
    " </body>\n",
    " </html>\n",
    " \n",
    "'''\n",
    "display(Markdown(q01))"
   ]
  },
  {
   "cell_type": "markdown",
   "metadata": {},
   "source": [
    "## Our First Features\n",
    "\n",
    "We would like to take the text of an email and predict whether the text is ham or spam. This is a *classification* problem, so we will use logistic regression to make a classifier.\n",
    "\n",
    "Recall that the input to logistic regression is a matrix $X$ that contains numeric values only. Unfortunately, our data are text, not numbers. To address this, we can create numeric features derived from the email text and use those features for logistic regression.\n",
    "\n",
    "Each row of $X$ is derived from one email example. Each column of $X$ is one feature. We'll guide you through creating a simple feature, and you'll create more interesting ones when you are trying to increase your accuracy.\n",
    "\n",
    "### Question 2\n",
    "\n",
    "Create a function called `words_in_text` that takes in a list of words and the text of an email. It outputs a pandas Series containing either a 0 or a 1 for each word in the list. The value of the Series should be 0 if the word doesn't appear in the text and 1 if the word does."
   ]
  },
  {
   "cell_type": "code",
   "execution_count": 10,
   "metadata": {
    "collapsed": true,
    "tags": [
     "student"
    ]
   },
   "outputs": [],
   "source": [
    "def words_in_text(words, text):\n",
    "    '''\n",
    "    Args:\n",
    "        `words` (list of str): words to find\n",
    "        `text` (str): string to search in\n",
    "    \n",
    "    Returns:\n",
    "        Series containing either 0 or 1 for each word in words\n",
    "        (0 if the word is not in text, 1 if the word is).\n",
    "    '''\n",
    "    values= []\n",
    "    for i in (words):\n",
    "        if text.find(i) >=0:\n",
    "            values+= [1]\n",
    "        else:\n",
    "            values+= [0]\n",
    "    return pd.Series(values)\n",
    "# If these don't error, your function outputs the correct output for these examples\n",
    "assert np.allclose(words_in_text(['hello'], 'hello world'),\n",
    "                   [1])\n",
    "assert np.allclose(words_in_text(['hello', 'bye', 'world'], 'hello world hello'),\n",
    "                   [1, 0, 1])"
   ]
  },
  {
   "cell_type": "markdown",
   "metadata": {},
   "source": [
    "### Question 3\n",
    "\n",
    "Now, create a function called `words_in_texts` that takes in a list of words and a pandas Series of email texts. It should output a 2-dimensional NumPy matrix containing one row for each email text. The row should contain the output of `words_in_text` for each example. For example:\n",
    "\n",
    "```python\n",
    ">>> words_in_texts(['hello', 'bye', 'world'], pd.Series(['hello', 'hello world hello']))\n",
    "array([[1, 0, 0],\n",
    "       [1, 0, 1]])\n",
    "```\n",
    "\n",
    "You should be able to use the `.apply` and `.as_matrix` functions to implement this."
   ]
  },
  {
   "cell_type": "code",
   "execution_count": 11,
   "metadata": {
    "collapsed": true,
    "tags": [
     "student"
    ]
   },
   "outputs": [],
   "source": [
    "def words_in_texts(words, texts):\n",
    "    '''\n",
    "    Args:\n",
    "        `words` (list of str): words to find\n",
    "        `texts` (Series of str): strings to search in\n",
    "    \n",
    "    Returns:\n",
    "        NumPy array of 0s and 1s with shape (n, p) where n is the\n",
    "        number of texts and p is the number of words.\n",
    "    '''\n",
    "    matrix= []\n",
    "    for i in texts:\n",
    "        row= (words_in_text(words, i))\n",
    "        matrix= matrix + [row]\n",
    "    return np.array(matrix)\n",
    "\n",
    "# If these don't error, your function outputs the correct output for these examples\n",
    "assert np.allclose(words_in_texts(['hello', 'bye', 'world'], pd.Series(['hello', 'hello world hello'])),\n",
    "                   np.array([[1, 0, 0], [1, 0, 1]]))"
   ]
  },
  {
   "cell_type": "markdown",
   "metadata": {},
   "source": [
    "## Classification\n",
    "\n",
    "Notice that the output of `words_in_texts` is a numeric matrix containing features for each email. This means we can use it directly to train a classifier.\n",
    "\n",
    "### Question 4\n",
    "\n",
    "We've given you 5 words that might be useful as features to distinguish spam/ham emails. Use these words as well as the `train` DataFrame to create two NumPy arrays: `X_train` and `y_train`.\n",
    "\n",
    "`X_train` should be a matrix of 0s and 1s created by using your `words_in_texts` function on all the emails in the training set.\n",
    "\n",
    "`y_train` should be vector of the correct labels for each email in the training set."
   ]
  },
  {
   "cell_type": "code",
   "execution_count": 12,
   "metadata": {
    "scrolled": true,
    "tags": [
     "student"
    ]
   },
   "outputs": [
    {
     "data": {
      "text/plain": [
       "(array([[0, 1, 0, 0, 0],\n",
       "        [0, 0, 0, 0, 0],\n",
       "        [0, 0, 0, 0, 0],\n",
       "        [0, 0, 0, 0, 1],\n",
       "        [0, 0, 0, 0, 0]]), array([0, 0, 1, 0, 0]))"
      ]
     },
     "execution_count": 12,
     "metadata": {},
     "output_type": "execute_result"
    }
   ],
   "source": [
    "some_words = ['drug', 'bank', 'prescription', 'memo', 'private']\n",
    "\n",
    "X_train = words_in_texts(some_words, train['email'])\n",
    "y_train = np.array(train['spam'])\n",
    "\n",
    "X_train[:5], y_train[:5]"
   ]
  },
  {
   "cell_type": "markdown",
   "metadata": {},
   "source": [
    "### Question 5\n",
    "\n",
    "Now we have matrices we can give to scikit-learn! Using the [`LogisticRegression`](http://scikit-learn.org/stable/modules/generated/sklearn.linear_model.LogisticRegression.html) classifier, train a logistic regression model using `X_train` and `y_train`. Then, output the accuracy of the model in the cell below. You should get an accuracy of around 0.7557."
   ]
  },
  {
   "cell_type": "code",
   "execution_count": 438,
   "metadata": {
    "tags": [
     "student"
    ]
   },
   "outputs": [
    {
     "data": {
      "text/plain": [
       "0.75730713943459516"
      ]
     },
     "execution_count": 438,
     "metadata": {},
     "output_type": "execute_result"
    }
   ],
   "source": [
    "from sklearn import linear_model\n",
    "from sklearn.linear_model import LogisticRegression\n",
    "\n",
    "log_reg_mod = linear_model.LogisticRegressionCV(fit_intercept=False)\n",
    "clf = log_reg_mod.fit(X_train, y_train).coef_\n",
    "scored= log_reg_mod.score(X_train, y_train)\n",
    "scored"
   ]
  },
  {
   "cell_type": "code",
   "execution_count": 439,
   "metadata": {},
   "outputs": [
    {
     "data": {
      "text/plain": [
       "0.25634882606612364"
      ]
     },
     "execution_count": 439,
     "metadata": {},
     "output_type": "execute_result"
    }
   ],
   "source": [
    "import numpy as np\n",
    "df= train['spam']\n",
    "((df != 0).values.sum())/ (len(df))"
   ]
  },
  {
   "cell_type": "code",
   "execution_count": 440,
   "metadata": {},
   "outputs": [
    {
     "data": {
      "text/plain": [
       "2140"
      ]
     },
     "execution_count": 440,
     "metadata": {},
     "output_type": "execute_result"
    }
   ],
   "source": [
    "((df != 0).values.sum())"
   ]
  },
  {
   "cell_type": "code",
   "execution_count": 441,
   "metadata": {},
   "outputs": [
    {
     "data": {
      "text/plain": [
       "0.74365117393387636"
      ]
     },
     "execution_count": 441,
     "metadata": {},
     "output_type": "execute_result"
    }
   ],
   "source": [
    "df= train['spam']\n",
    "((df != 1).values.sum())/ (len(df))"
   ]
  },
  {
   "cell_type": "markdown",
   "metadata": {},
   "source": [
    "### Question 6\n",
    "\n",
    "That doesn't seem too shabby! But the classifier you made above isn't as great as you might think. Recall that we have other ways of evaluating a classifier:\n",
    "\n",
    "*Sensitivity* (also called *recall*) is the rate of true positives; in this case, the proportion of spam emails that are classified as spam.\n",
    "\n",
    "*Specificity* (also called *precision*) is the rate of true negatives; in this case, the proportion of ham emails that are classified as ham.\n",
    "\n",
    "Answer the following questions in the light blue cell below. You may create other cells for scratch work, but your final answers\n",
    "must appear in the light blue cell.\n",
    "\n",
    "0. Suppose we have a classifier that just predicts 0 (ham) for every email. What is its sensitivity? Its specificity?\n",
    "0. Suppose we have a classifier that just predicts 0 (ham) for every email. What is its accuracy on the training set?\n",
    "0. Our logistic regression classifier got 75% prediction accuracy (number of correct predictions / total). Why is this a poor accuracy?\n",
    "0. What is the sensitivity of the logistic regression classifier above? The specificity? What kind of mistake is our classifier more likely to make: false positives or false negatives?\n",
    "0. Given the word features we gave you above, name one reason this classifier is performing poorly."
   ]
  },
  {
   "cell_type": "markdown",
   "metadata": {
    "tags": [
     "student",
     "written",
     "q06"
    ]
   },
   "source": [
    "1. *The sensitivity is 25.6%, and the specificity is 74.4%*\n",
    "2. *The accuracy would be 74.4%.*\n",
    "3. *This is a poor accuracy since about 75% of the emails are actually ham.*\n",
    "4. *Logistic Regression Sensitivity is  0.785816962146622 and Logistic Regression Specificity is  0.9714901772879732. We are more likely to have false positives since the sensitivity is lower than the specificity.*\n",
    "5. *There are plenty of spam emails that don't contain the spam words given above.*"
   ]
  },
  {
   "cell_type": "code",
   "execution_count": 442,
   "metadata": {},
   "outputs": [
    {
     "name": "stdout",
     "output_type": "stream",
     "text": [
      "Accuracy is  0.743651173934\n"
     ]
    }
   ],
   "source": [
    "# Suppose we have a classifier that just predicts 0 (ham) for every email. \n",
    "# What is its accuracy on the training set?\n",
    "X_train_ham = np.ones((len(y_train),1))\n",
    "clf_ham = LogisticRegression().fit(X_train_ham, y_train).score(X_train_ham, y_train)\n",
    "print(\"Accuracy is \", clf_ham)"
   ]
  },
  {
   "cell_type": "code",
   "execution_count": 443,
   "metadata": {
    "scrolled": true
   },
   "outputs": [
    {
     "name": "stdout",
     "output_type": "stream",
     "text": [
      "Logistic Regression Sensitivity is  0.785816962146622\n",
      "Logistic Regression Specificity is  0.9714901772879732\n"
     ]
    }
   ],
   "source": [
    "# What is the sensitivity of the logistic regression classifier above? The specificity? \n",
    "# What kind of mistake is our classifier more likely to make: false positives or false negatives?\n",
    "logistic_predictions = log_reg_mod.predict(X_train)\n",
    "# compute truth - predictions to see where our classifier made mistakes!\n",
    "# If value is 1 then right answer was ham but predicted spam\n",
    "# If value is 0 then right answer was spam but predicated ham\n",
    "diff = y_train - logistic_predictions\n",
    "sensitivity = 1 - len(diff[diff == 1])/len(diff)\n",
    "specificity = 1 - len(diff[diff == -1])/len(diff)\n",
    "print(\"Logistic Regression Sensitivity is \", sensitivity)\n",
    "print(\"Logistic Regression Specificity is \", specificity)"
   ]
  },
  {
   "cell_type": "markdown",
   "metadata": {},
   "source": [
    "## Moving Forward\n",
    "\n",
    "With this in mind, it is now your assignment to make your classifier more accurate. In particular, in order to get full credit on the accuracy part of this assignment, you must get at least **88%** accuracy on the test set. To see your accuracy on the test set, you will use your classifier to predict every email in the `test` DataFrame and upload your predictions to Kaggle.\n",
    "\n",
    "To prevent you from fitting to the test set, you may only upload predictions to Kaggle twice per day. This means you should start early!\n",
    "\n",
    "Here are some ideas for improving your model:\n",
    "\n",
    "1. Finding better features based on the email text. For example, simple features that typically work for emails are:\n",
    "    1. Number of characters in the subject / body\n",
    "    1. Number of words in the subject / body\n",
    "    1. Use of punctuation (e.g., how many '!' were there?)\n",
    "    1. Number / percentage of capital letters \n",
    "    1. Whether or not the email is a reply to an earlier email or a forwarded email. \n",
    "    1. Using bag-of-words or [td-idf](http://www.tfidf.com/).\n",
    "1. Finding better words to use as features. Which words are the best at distinguishing emails? This requires digging into the email text itself. (To help you out, we've given you a set of [English stopwords](https://www.wikiwand.com/en/Stop_words) in `stopwords.csv`)\n",
    "1. Better data processing. For example, many emails contain HTML as well as text. You can consider extracting out the text from the HTML to help you find better words. Or, you can match HTML tags themselves, or even some combination of the two.\n",
    "1. Model selection. You can adjust parameters of your model (e.g., the regularization parameter) to achieve higher accuracy. \n",
    "\n",
    "Recall that you should use cross-validation to do feature and model selection properly! Otherwise, you will likely overfit to your training data.\n",
    "\n",
    "You may use whatever method you prefer in order to create features. However, we want to make it fair to students who are seeing these techniques for the first time.  As such, **you are only allowed to train logistic regression models and their regularized forms**. This means no random forest, k-nearest-neighbors, neural nets, etc.\n",
    "\n",
    "We will not give you a code skeleton to do this, so feel free to create as many cells as you need in order to tackle this task. However, you should show us your process as outlined here:"
   ]
  },
  {
   "cell_type": "code",
   "execution_count": 8,
   "metadata": {
    "scrolled": true
   },
   "outputs": [
    {
     "data": {
      "text/html": [
       "<div>\n",
       "<style scoped>\n",
       "    .dataframe tbody tr th:only-of-type {\n",
       "        vertical-align: middle;\n",
       "    }\n",
       "\n",
       "    .dataframe tbody tr th {\n",
       "        vertical-align: top;\n",
       "    }\n",
       "\n",
       "    .dataframe thead th {\n",
       "        text-align: right;\n",
       "    }\n",
       "</style>\n",
       "<table border=\"1\" class=\"dataframe\">\n",
       "  <thead>\n",
       "    <tr style=\"text-align: right;\">\n",
       "      <th></th>\n",
       "      <th>id</th>\n",
       "      <th>subject</th>\n",
       "      <th>email</th>\n",
       "      <th>spam</th>\n",
       "    </tr>\n",
       "  </thead>\n",
       "  <tbody>\n",
       "    <tr>\n",
       "      <th>0</th>\n",
       "      <td>0</td>\n",
       "      <td>subject: a&amp;l daily to be auctioned in bankrupt...</td>\n",
       "      <td>URL: http://boingboing.net/#85534171\\n Date: N...</td>\n",
       "      <td>0</td>\n",
       "    </tr>\n",
       "    <tr>\n",
       "      <th>1</th>\n",
       "      <td>1</td>\n",
       "      <td>subject: wired: \"stronger ties between isps an...</td>\n",
       "      <td>URL: http://scriptingnews.userland.com/backiss...</td>\n",
       "      <td>0</td>\n",
       "    </tr>\n",
       "    <tr>\n",
       "      <th>2</th>\n",
       "      <td>2</td>\n",
       "      <td>subject: it's just too small                  ...</td>\n",
       "      <td>&lt;HTML&gt;\\n &lt;HEAD&gt;\\n &lt;/HEAD&gt;\\n &lt;BODY&gt;\\n &lt;FONT SIZ...</td>\n",
       "      <td>1</td>\n",
       "    </tr>\n",
       "    <tr>\n",
       "      <th>3</th>\n",
       "      <td>3</td>\n",
       "      <td>subject: liberal defnitions\\n</td>\n",
       "      <td>Depends on how much over spending vs. how much...</td>\n",
       "      <td>0</td>\n",
       "    </tr>\n",
       "    <tr>\n",
       "      <th>4</th>\n",
       "      <td>4</td>\n",
       "      <td>subject: re: [ilug] newbie seeks advice - suse...</td>\n",
       "      <td>hehe sorry but if you hit caps lock twice the ...</td>\n",
       "      <td>0</td>\n",
       "    </tr>\n",
       "  </tbody>\n",
       "</table>\n",
       "</div>"
      ],
      "text/plain": [
       "   id                                            subject  \\\n",
       "0   0  subject: a&l daily to be auctioned in bankrupt...   \n",
       "1   1  subject: wired: \"stronger ties between isps an...   \n",
       "2   2  subject: it's just too small                  ...   \n",
       "3   3                      subject: liberal defnitions\\n   \n",
       "4   4  subject: re: [ilug] newbie seeks advice - suse...   \n",
       "\n",
       "                                               email  spam  \n",
       "0  URL: http://boingboing.net/#85534171\\n Date: N...     0  \n",
       "1  URL: http://scriptingnews.userland.com/backiss...     0  \n",
       "2  <HTML>\\n <HEAD>\\n </HEAD>\\n <BODY>\\n <FONT SIZ...     1  \n",
       "3  Depends on how much over spending vs. how much...     0  \n",
       "4  hehe sorry but if you hit caps lock twice the ...     0  "
      ]
     },
     "execution_count": 8,
     "metadata": {},
     "output_type": "execute_result"
    }
   ],
   "source": [
    "train_lower = pd.read_csv('train.csv')\n",
    "train_lower.subject= train['subject'].str.lower()\n",
    "train_lower.head()"
   ]
  },
  {
   "cell_type": "code",
   "execution_count": 446,
   "metadata": {},
   "outputs": [
    {
     "data": {
      "text/html": [
       "<div>\n",
       "<style>\n",
       "    .dataframe thead tr:only-child th {\n",
       "        text-align: right;\n",
       "    }\n",
       "\n",
       "    .dataframe thead th {\n",
       "        text-align: left;\n",
       "    }\n",
       "\n",
       "    .dataframe tbody tr th {\n",
       "        vertical-align: top;\n",
       "    }\n",
       "</style>\n",
       "<table border=\"1\" class=\"dataframe\">\n",
       "  <thead>\n",
       "    <tr style=\"text-align: right;\">\n",
       "      <th></th>\n",
       "      <th>id</th>\n",
       "      <th>subject</th>\n",
       "      <th>email</th>\n",
       "      <th>spam</th>\n",
       "      <th>upper</th>\n",
       "    </tr>\n",
       "  </thead>\n",
       "  <tbody>\n",
       "    <tr>\n",
       "      <th>0</th>\n",
       "      <td>0</td>\n",
       "      <td>Subject: A&amp;L Daily to be auctioned in bankrupt...</td>\n",
       "      <td>URL: http://boingboing.net/#85534171\\n Date: N...</td>\n",
       "      <td>0</td>\n",
       "      <td>22</td>\n",
       "    </tr>\n",
       "    <tr>\n",
       "      <th>1</th>\n",
       "      <td>1</td>\n",
       "      <td>Subject: Wired: \"Stronger ties between ISPs an...</td>\n",
       "      <td>URL: http://scriptingnews.userland.com/backiss...</td>\n",
       "      <td>0</td>\n",
       "      <td>18</td>\n",
       "    </tr>\n",
       "    <tr>\n",
       "      <th>2</th>\n",
       "      <td>2</td>\n",
       "      <td>Subject: It's just too small                  ...</td>\n",
       "      <td>&lt;HTML&gt;\\n &lt;HEAD&gt;\\n &lt;/HEAD&gt;\\n &lt;BODY&gt;\\n &lt;FONT SIZ...</td>\n",
       "      <td>1</td>\n",
       "      <td>51</td>\n",
       "    </tr>\n",
       "    <tr>\n",
       "      <th>3</th>\n",
       "      <td>3</td>\n",
       "      <td>Subject: liberal defnitions\\n</td>\n",
       "      <td>Depends on how much over spending vs. how much...</td>\n",
       "      <td>0</td>\n",
       "      <td>26</td>\n",
       "    </tr>\n",
       "    <tr>\n",
       "      <th>4</th>\n",
       "      <td>4</td>\n",
       "      <td>Subject: RE: [ILUG] Newbie seeks advice - Suse...</td>\n",
       "      <td>hehe sorry but if you hit caps lock twice the ...</td>\n",
       "      <td>0</td>\n",
       "      <td>90</td>\n",
       "    </tr>\n",
       "  </tbody>\n",
       "</table>\n",
       "</div>"
      ],
      "text/plain": [
       "   id                                            subject  \\\n",
       "0   0  Subject: A&L Daily to be auctioned in bankrupt...   \n",
       "1   1  Subject: Wired: \"Stronger ties between ISPs an...   \n",
       "2   2  Subject: It's just too small                  ...   \n",
       "3   3                      Subject: liberal defnitions\\n   \n",
       "4   4  Subject: RE: [ILUG] Newbie seeks advice - Suse...   \n",
       "\n",
       "                                               email  spam  upper  \n",
       "0  URL: http://boingboing.net/#85534171\\n Date: N...     0     22  \n",
       "1  URL: http://scriptingnews.userland.com/backiss...     0     18  \n",
       "2  <HTML>\\n <HEAD>\\n </HEAD>\\n <BODY>\\n <FONT SIZ...     1     51  \n",
       "3  Depends on how much over spending vs. how much...     0     26  \n",
       "4  hehe sorry but if you hit caps lock twice the ...     0     90  "
      ]
     },
     "execution_count": 446,
     "metadata": {},
     "output_type": "execute_result"
    }
   ],
   "source": [
    "#uppercase column\n",
    "import re\n",
    "upper= []\n",
    "for i in train_upper['email']:\n",
    "    upper+= [len(re.findall(r'[A-Z]', i))]\n",
    "train_upper['upper']= upper\n",
    "train_upper.head()"
   ]
  },
  {
   "cell_type": "code",
   "execution_count": 447,
   "metadata": {},
   "outputs": [
    {
     "data": {
      "text/plain": [
       "'!\"#$%&\\'()*+,-./:;<=>?@[\\\\]^_`{|}~'"
      ]
     },
     "execution_count": 447,
     "metadata": {},
     "output_type": "execute_result"
    }
   ],
   "source": [
    "import string\n",
    "string.punctuation"
   ]
  },
  {
   "cell_type": "code",
   "execution_count": 448,
   "metadata": {
    "scrolled": true
   },
   "outputs": [
    {
     "data": {
      "text/html": [
       "<div>\n",
       "<style>\n",
       "    .dataframe thead tr:only-child th {\n",
       "        text-align: right;\n",
       "    }\n",
       "\n",
       "    .dataframe thead th {\n",
       "        text-align: left;\n",
       "    }\n",
       "\n",
       "    .dataframe tbody tr th {\n",
       "        vertical-align: top;\n",
       "    }\n",
       "</style>\n",
       "<table border=\"1\" class=\"dataframe\">\n",
       "  <thead>\n",
       "    <tr style=\"text-align: right;\">\n",
       "      <th></th>\n",
       "      <th>id</th>\n",
       "      <th>subject</th>\n",
       "      <th>email</th>\n",
       "      <th>spam</th>\n",
       "      <th>punct</th>\n",
       "    </tr>\n",
       "  </thead>\n",
       "  <tbody>\n",
       "    <tr>\n",
       "      <th>0</th>\n",
       "      <td>0</td>\n",
       "      <td>Subject: A&amp;L Daily to be auctioned in bankrupt...</td>\n",
       "      <td>url: http://boingboing.net/#85534171\\n date: n...</td>\n",
       "      <td>0</td>\n",
       "      <td>41</td>\n",
       "    </tr>\n",
       "    <tr>\n",
       "      <th>1</th>\n",
       "      <td>1</td>\n",
       "      <td>Subject: Wired: \"Stronger ties between ISPs an...</td>\n",
       "      <td>url: http://scriptingnews.userland.com/backiss...</td>\n",
       "      <td>0</td>\n",
       "      <td>40</td>\n",
       "    </tr>\n",
       "    <tr>\n",
       "      <th>2</th>\n",
       "      <td>2</td>\n",
       "      <td>Subject: It's just too small                  ...</td>\n",
       "      <td>&lt;html&gt;\\n &lt;head&gt;\\n &lt;/head&gt;\\n &lt;body&gt;\\n &lt;font siz...</td>\n",
       "      <td>1</td>\n",
       "      <td>66</td>\n",
       "    </tr>\n",
       "    <tr>\n",
       "      <th>3</th>\n",
       "      <td>3</td>\n",
       "      <td>Subject: liberal defnitions\\n</td>\n",
       "      <td>depends on how much over spending vs. how much...</td>\n",
       "      <td>0</td>\n",
       "      <td>71</td>\n",
       "    </tr>\n",
       "    <tr>\n",
       "      <th>4</th>\n",
       "      <td>4</td>\n",
       "      <td>Subject: RE: [ILUG] Newbie seeks advice - Suse...</td>\n",
       "      <td>hehe sorry but if you hit caps lock twice the ...</td>\n",
       "      <td>0</td>\n",
       "      <td>127</td>\n",
       "    </tr>\n",
       "  </tbody>\n",
       "</table>\n",
       "</div>"
      ],
      "text/plain": [
       "   id                                            subject  \\\n",
       "0   0  Subject: A&L Daily to be auctioned in bankrupt...   \n",
       "1   1  Subject: Wired: \"Stronger ties between ISPs an...   \n",
       "2   2  Subject: It's just too small                  ...   \n",
       "3   3                      Subject: liberal defnitions\\n   \n",
       "4   4  Subject: RE: [ILUG] Newbie seeks advice - Suse...   \n",
       "\n",
       "                                               email  spam  punct  \n",
       "0  url: http://boingboing.net/#85534171\\n date: n...     0     41  \n",
       "1  url: http://scriptingnews.userland.com/backiss...     0     40  \n",
       "2  <html>\\n <head>\\n </head>\\n <body>\\n <font siz...     1     66  \n",
       "3  depends on how much over spending vs. how much...     0     71  \n",
       "4  hehe sorry but if you hit caps lock twice the ...     0    127  "
      ]
     },
     "execution_count": 448,
     "metadata": {},
     "output_type": "execute_result"
    }
   ],
   "source": [
    "#punctuation column\n",
    "import re\n",
    "punct_re= r'[\"#$%&\\'()*+,-.\\/:;<=>?@\\[\\\\\\]^_`{|}~!]'\n",
    "count=[]\n",
    "for i in train['email']:\n",
    "    count+= [len(re.findall(punct_re, i))]\n",
    "train['punct']= count\n",
    "train.head()"
   ]
  },
  {
   "cell_type": "code",
   "execution_count": 449,
   "metadata": {},
   "outputs": [
    {
     "data": {
      "text/plain": [
       "8348"
      ]
     },
     "execution_count": 449,
     "metadata": {},
     "output_type": "execute_result"
    }
   ],
   "source": [
    "len(train[\"punct\"])"
   ]
  },
  {
   "cell_type": "code",
   "execution_count": 450,
   "metadata": {
    "scrolled": true
   },
   "outputs": [
    {
     "name": "stderr",
     "output_type": "stream",
     "text": [
      "/Users/devyndonahue/anaconda3/lib/python3.5/site-packages/numpy/core/fromnumeric.py:57: FutureWarning: reshape is deprecated and will raise in a subsequent release. Please use .values.reshape(...) instead\n",
      "  return getattr(obj, method)(*args, **kwds)\n"
     ]
    },
    {
     "data": {
      "text/plain": [
       "array([[ 41],\n",
       "       [ 40],\n",
       "       [ 66],\n",
       "       ..., \n",
       "       [ 51],\n",
       "       [451],\n",
       "       [172]])"
      ]
     },
     "execution_count": 450,
     "metadata": {},
     "output_type": "execute_result"
    }
   ],
   "source": [
    "reshaped_punct= np.reshape(train.punct, (8348, 1))\n",
    "reshaped_punct"
   ]
  },
  {
   "cell_type": "code",
   "execution_count": 451,
   "metadata": {
    "collapsed": true
   },
   "outputs": [],
   "source": [
    "punct_feature= np.concatenate((X_train, reshaped_punct), axis=1)"
   ]
  },
  {
   "cell_type": "code",
   "execution_count": 452,
   "metadata": {},
   "outputs": [
    {
     "data": {
      "text/plain": [
       "<matplotlib.text.Text at 0x18bd01240>"
      ]
     },
     "execution_count": 452,
     "metadata": {},
     "output_type": "execute_result"
    },
    {
     "data": {
      "image/png": "[encoded data removed]",
      "text/plain": [
       "<matplotlib.figure.Figure at 0x187b20278>"
      ]
     },
     "metadata": {},
     "output_type": "display_data"
    }
   ],
   "source": [
    "\n",
    "train_spam_punct= (train.loc[train.spam == 1]).reset_index()\n",
    "train_non_spam_punct = (train.loc[train.spam == 0]).reset_index()\n",
    "plot= sns.distplot(train_spam_punct['punct'], bins=250, label='spam')\n",
    "plot= sns.distplot(train_non_spam_punct['punct'],bins=250, label='ham')\n",
    "plot.set_xscale('log')\n",
    "\n",
    "# plot= sns.distplot(number_of_punct, bins=650, label='spam')\n",
    "#plot.set_yscale('log')\n",
    "\n",
    "#plt.xlim(0,20000)\n",
    "plt.legend()\n",
    "plot.set_xlabel('Log of Amount of Punctuation')\n",
    "plot.set_ylabel('Density')\n"
   ]
  },
  {
   "cell_type": "code",
   "execution_count": 453,
   "metadata": {
    "collapsed": true
   },
   "outputs": [],
   "source": [
    "#model for punctuation\n",
    "# log_reg_mod= linear_model.LogisticRegression(fit_intercept= False)\n",
    "# model= log_reg_mod.fit(X_train, y_train).coef_\n",
    "# log_reg_mod.score(X_train, y_train)"
   ]
  },
  {
   "cell_type": "code",
   "execution_count": 454,
   "metadata": {},
   "outputs": [
    {
     "name": "stderr",
     "output_type": "stream",
     "text": [
      "/Users/devyndonahue/anaconda3/lib/python3.5/site-packages/numpy/core/fromnumeric.py:57: FutureWarning: reshape is deprecated and will raise in a subsequent release. Please use .values.reshape(...) instead\n",
      "  return getattr(obj, method)(*args, **kwds)\n"
     ]
    },
    {
     "data": {
      "text/plain": [
       "array([[ 22],\n",
       "       [ 18],\n",
       "       [ 51],\n",
       "       ..., \n",
       "       [203],\n",
       "       [371],\n",
       "       [ 37]])"
      ]
     },
     "execution_count": 454,
     "metadata": {},
     "output_type": "execute_result"
    }
   ],
   "source": [
    "reshaped_upper= np.reshape(train_upper.upper, (8348, 1))\n",
    "reshaped_upper"
   ]
  },
  {
   "cell_type": "code",
   "execution_count": 455,
   "metadata": {
    "collapsed": true
   },
   "outputs": [],
   "source": [
    "upper_feature= np.concatenate((X_train, reshaped_upper), axis=1)"
   ]
  },
  {
   "cell_type": "code",
   "execution_count": 456,
   "metadata": {
    "collapsed": true
   },
   "outputs": [],
   "source": [
    "# log_reg_mod= linear_model.LogisticRegression(fit_intercept= False)\n",
    "# model= log_reg_mod.fit(X_train, y_train).coef_\n",
    "# log_reg_mod.score(X_train, y_train)"
   ]
  },
  {
   "cell_type": "code",
   "execution_count": 457,
   "metadata": {},
   "outputs": [
    {
     "data": {
      "image/png": "[encoded data removed]",
      "text/plain": [
       "<matplotlib.figure.Figure at 0x1884dfdd8>"
      ]
     },
     "metadata": {},
     "output_type": "display_data"
    }
   ],
   "source": [
    "#plot punctuation\n",
    "cols= train['punct']\n",
    "columns= cols[cols>0]\n",
    "xs= np.log(cols)\n",
    "coll= xs[xs>0]\n",
    "plot=sns.distplot(np.log(coll), bins=100)"
   ]
  },
  {
   "cell_type": "code",
   "execution_count": 458,
   "metadata": {
    "scrolled": true
   },
   "outputs": [
    {
     "name": "stderr",
     "output_type": "stream",
     "text": [
      "/Users/devyndonahue/anaconda3/lib/python3.5/site-packages/ipykernel_launcher.py:4: RuntimeWarning: divide by zero encountered in log\n",
      "  after removing the cwd from sys.path.\n"
     ]
    },
    {
     "data": {
      "image/png": "[encoded data removed]",
      "text/plain": [
       "<matplotlib.figure.Figure at 0x1881e2b70>"
      ]
     },
     "metadata": {},
     "output_type": "display_data"
    }
   ],
   "source": [
    "#plot uppercase\n",
    "col= train_upper['upper']\n",
    "column= col[col>0]\n",
    "x= np.log(col)\n",
    "y= x[x>0]\n",
    "plot=sns.distplot(np.log(y), bins=100)"
   ]
  },
  {
   "cell_type": "code",
   "execution_count": 459,
   "metadata": {
    "collapsed": true
   },
   "outputs": [],
   "source": [
    "number_of_character_all= []\n",
    "for i in range(len(train.email)):\n",
    "    number_of_character_all+= [len(train.email[i])]"
   ]
  },
  {
   "cell_type": "code",
   "execution_count": 460,
   "metadata": {
    "collapsed": true
   },
   "outputs": [],
   "source": [
    "train['characters']= number_of_character_all"
   ]
  },
  {
   "cell_type": "code",
   "execution_count": 461,
   "metadata": {},
   "outputs": [
    {
     "name": "stderr",
     "output_type": "stream",
     "text": [
      "/Users/devyndonahue/anaconda3/lib/python3.5/site-packages/numpy/core/fromnumeric.py:57: FutureWarning: reshape is deprecated and will raise in a subsequent release. Please use .values.reshape(...) instead\n",
      "  return getattr(obj, method)(*args, **kwds)\n"
     ]
    },
    {
     "data": {
      "text/plain": [
       "array([[ 359],\n",
       "       [ 278],\n",
       "       [ 444],\n",
       "       ..., \n",
       "       [ 881],\n",
       "       [2723],\n",
       "       [ 863]])"
      ]
     },
     "execution_count": 461,
     "metadata": {},
     "output_type": "execute_result"
    }
   ],
   "source": [
    "reshaped_characters= np.reshape(train.characters, (8348, 1))\n",
    "reshaped_characters"
   ]
  },
  {
   "cell_type": "code",
   "execution_count": 462,
   "metadata": {
    "collapsed": true
   },
   "outputs": [],
   "source": [
    "characters_feature= np.concatenate((X_train, reshaped_characters), axis=1)"
   ]
  },
  {
   "cell_type": "code",
   "execution_count": 463,
   "metadata": {
    "collapsed": true,
    "scrolled": true
   },
   "outputs": [],
   "source": [
    "#model for characters\n",
    "# log_reg_mod= linear_model.LogisticRegression(fit_intercept= False)\n",
    "# model= log_reg_mod.fit(X_train, y_train).coef_\n",
    "# log_reg_mod.score(X_train, y_train)"
   ]
  },
  {
   "cell_type": "code",
   "execution_count": 464,
   "metadata": {
    "scrolled": true
   },
   "outputs": [
    {
     "name": "stdout",
     "output_type": "stream",
     "text": [
      "202370\n"
     ]
    },
    {
     "data": {
      "text/html": [
       "<div>\n",
       "<style>\n",
       "    .dataframe thead tr:only-child th {\n",
       "        text-align: right;\n",
       "    }\n",
       "\n",
       "    .dataframe thead th {\n",
       "        text-align: left;\n",
       "    }\n",
       "\n",
       "    .dataframe tbody tr th {\n",
       "        vertical-align: top;\n",
       "    }\n",
       "</style>\n",
       "<table border=\"1\" class=\"dataframe\">\n",
       "  <thead>\n",
       "    <tr style=\"text-align: right;\">\n",
       "      <th></th>\n",
       "      <th>word</th>\n",
       "      <th>word_count</th>\n",
       "    </tr>\n",
       "  </thead>\n",
       "  <tbody>\n",
       "    <tr>\n",
       "      <th>0</th>\n",
       "      <td>true.</td>\n",
       "      <td>69</td>\n",
       "    </tr>\n",
       "    <tr>\n",
       "      <th>1</th>\n",
       "      <td>&gt;textpad</td>\n",
       "      <td>2</td>\n",
       "    </tr>\n",
       "    <tr>\n",
       "      <th>2</th>\n",
       "      <td>http://scriptingnews.userland.com/backissues/2...</td>\n",
       "      <td>2</td>\n",
       "    </tr>\n",
       "    <tr>\n",
       "      <th>3</th>\n",
       "      <td>code=2e</td>\n",
       "      <td>7</td>\n",
       "    </tr>\n",
       "    <tr>\n",
       "      <th>4</th>\n",
       "      <td>[0]torgox</td>\n",
       "      <td>1</td>\n",
       "    </tr>\n",
       "  </tbody>\n",
       "</table>\n",
       "</div>"
      ],
      "text/plain": [
       "                                                word  word_count\n",
       "0                                              true.          69\n",
       "1                                           >textpad           2\n",
       "2  http://scriptingnews.userland.com/backissues/2...           2\n",
       "3                                            code=2e           7\n",
       "4                                          [0]torgox           1"
      ]
     },
     "execution_count": 464,
     "metadata": {},
     "output_type": "execute_result"
    }
   ],
   "source": [
    "def unique_words(dfs):\n",
    "    dicty = {}\n",
    "    for i in range(len(dfs)):\n",
    "        words= np.unique(dfs.iloc[i].split())\n",
    "        for w in words:\n",
    "            if w in dicty:\n",
    "                dicty[w] += 1\n",
    "            else:\n",
    "                dicty[w] = 1\n",
    "    return dicty\n",
    "\n",
    "num_words_used = unique_words(train.email)\n",
    "words= list(num_words_used.keys())\n",
    "counts= [num_words_used[k] for k in words]\n",
    "word_counts = pd.DataFrame({'word': words, 'word_count': counts})\n",
    "\n",
    "\n",
    "#reshaped_word= np.reshape(word_counts.word_count, (202370, 1))\n",
    "print(len(word_counts))\n",
    "word_counts.head()"
   ]
  },
  {
   "cell_type": "code",
   "execution_count": 465,
   "metadata": {
    "scrolled": true
   },
   "outputs": [
    {
     "data": {
      "text/html": [
       "<div>\n",
       "<style>\n",
       "    .dataframe thead tr:only-child th {\n",
       "        text-align: right;\n",
       "    }\n",
       "\n",
       "    .dataframe thead th {\n",
       "        text-align: left;\n",
       "    }\n",
       "\n",
       "    .dataframe tbody tr th {\n",
       "        vertical-align: top;\n",
       "    }\n",
       "</style>\n",
       "<table border=\"1\" class=\"dataframe\">\n",
       "  <thead>\n",
       "    <tr style=\"text-align: right;\">\n",
       "      <th></th>\n",
       "      <th>word</th>\n",
       "      <th>word_count</th>\n",
       "    </tr>\n",
       "  </thead>\n",
       "  <tbody>\n",
       "    <tr>\n",
       "      <th>85008</th>\n",
       "      <td>the</td>\n",
       "      <td>7226</td>\n",
       "    </tr>\n",
       "    <tr>\n",
       "      <th>146272</th>\n",
       "      <td>to</td>\n",
       "      <td>7091</td>\n",
       "    </tr>\n",
       "    <tr>\n",
       "      <th>171518</th>\n",
       "      <td>a</td>\n",
       "      <td>6609</td>\n",
       "    </tr>\n",
       "    <tr>\n",
       "      <th>1959</th>\n",
       "      <td>and</td>\n",
       "      <td>6438</td>\n",
       "    </tr>\n",
       "    <tr>\n",
       "      <th>17126</th>\n",
       "      <td>of</td>\n",
       "      <td>6206</td>\n",
       "    </tr>\n",
       "    <tr>\n",
       "      <th>154692</th>\n",
       "      <td>is</td>\n",
       "      <td>5848</td>\n",
       "    </tr>\n",
       "    <tr>\n",
       "      <th>9036</th>\n",
       "      <td>for</td>\n",
       "      <td>5721</td>\n",
       "    </tr>\n",
       "    <tr>\n",
       "      <th>168504</th>\n",
       "      <td>in</td>\n",
       "      <td>5707</td>\n",
       "    </tr>\n",
       "    <tr>\n",
       "      <th>113462</th>\n",
       "      <td>this</td>\n",
       "      <td>5144</td>\n",
       "    </tr>\n",
       "    <tr>\n",
       "      <th>164355</th>\n",
       "      <td>on</td>\n",
       "      <td>5133</td>\n",
       "    </tr>\n",
       "    <tr>\n",
       "      <th>3260</th>\n",
       "      <td>that</td>\n",
       "      <td>4958</td>\n",
       "    </tr>\n",
       "    <tr>\n",
       "      <th>114984</th>\n",
       "      <td>you</td>\n",
       "      <td>4812</td>\n",
       "    </tr>\n",
       "    <tr>\n",
       "      <th>50021</th>\n",
       "      <td>it</td>\n",
       "      <td>4563</td>\n",
       "    </tr>\n",
       "    <tr>\n",
       "      <th>146773</th>\n",
       "      <td>with</td>\n",
       "      <td>4336</td>\n",
       "    </tr>\n",
       "    <tr>\n",
       "      <th>13769</th>\n",
       "      <td>be</td>\n",
       "      <td>4311</td>\n",
       "    </tr>\n",
       "    <tr>\n",
       "      <th>121940</th>\n",
       "      <td>i</td>\n",
       "      <td>4193</td>\n",
       "    </tr>\n",
       "    <tr>\n",
       "      <th>141716</th>\n",
       "      <td>have</td>\n",
       "      <td>4098</td>\n",
       "    </tr>\n",
       "    <tr>\n",
       "      <th>58877</th>\n",
       "      <td>from</td>\n",
       "      <td>4069</td>\n",
       "    </tr>\n",
       "    <tr>\n",
       "      <th>26813</th>\n",
       "      <td>not</td>\n",
       "      <td>3967</td>\n",
       "    </tr>\n",
       "    <tr>\n",
       "      <th>164301</th>\n",
       "      <td>are</td>\n",
       "      <td>3872</td>\n",
       "    </tr>\n",
       "  </tbody>\n",
       "</table>\n",
       "</div>"
      ],
      "text/plain": [
       "        word  word_count\n",
       "85008    the        7226\n",
       "146272    to        7091\n",
       "171518     a        6609\n",
       "1959     and        6438\n",
       "17126     of        6206\n",
       "154692    is        5848\n",
       "9036     for        5721\n",
       "168504    in        5707\n",
       "113462  this        5144\n",
       "164355    on        5133\n",
       "3260    that        4958\n",
       "114984   you        4812\n",
       "50021     it        4563\n",
       "146773  with        4336\n",
       "13769     be        4311\n",
       "121940     i        4193\n",
       "141716  have        4098\n",
       "58877   from        4069\n",
       "26813    not        3967\n",
       "164301   are        3872"
      ]
     },
     "execution_count": 465,
     "metadata": {},
     "output_type": "execute_result"
    }
   ],
   "source": [
    "top_words= word_counts.sort_values(['word_count'], ascending= False).head(20)\n",
    "top_words"
   ]
  },
  {
   "cell_type": "code",
   "execution_count": 466,
   "metadata": {
    "scrolled": true
   },
   "outputs": [
    {
     "data": {
      "text/plain": [
       "array([[1, 1, 1, ..., 0, 1, 1],\n",
       "       [0, 0, 1, ..., 0, 0, 0],\n",
       "       [1, 1, 1, ..., 0, 0, 1],\n",
       "       ..., \n",
       "       [1, 1, 1, ..., 1, 1, 1],\n",
       "       [1, 1, 1, ..., 0, 1, 1],\n",
       "       [1, 0, 1, ..., 0, 1, 0]])"
      ]
     },
     "execution_count": 466,
     "metadata": {},
     "output_type": "execute_result"
    }
   ],
   "source": [
    "spam_and_ham= words_in_texts(top_words['word'], train['email'])\n",
    "spam_and_ham"
   ]
  },
  {
   "cell_type": "code",
   "execution_count": 467,
   "metadata": {},
   "outputs": [
    {
     "data": {
      "text/markdown": [
       "In this graph, I looked how often the top 20 most common words appear in the emails, evaluating spam and ham emails separately. The average percentage is fairly similar, but it does show that the top 20 most occurring words are more often in spam emails than they are in ham emails."
      ],
      "text/plain": [
       "<IPython.core.display.Markdown object>"
      ]
     },
     "metadata": {},
     "output_type": "display_data"
    },
    {
     "data": {
      "image/png": "[encoded data removed]",
      "text/plain": [
       "<matplotlib.figure.Figure at 0x1879162e8>"
      ]
     },
     "metadata": {},
     "output_type": "display_data"
    }
   ],
   "source": [
    "plot3= grouped_train.plot(kind='bar')\n",
    "plot3.set_xlabel('Spam or Ham Email')\n",
    "plot3.set_ylabel('Average Percentage of Occurences of Top 20 Most Common Words')\n",
    "word_string= \"In this graph, I looked how often the top 20 most common words appear in the emails, evaluating spam and ham emails separately. The average percentage is fairly similar, but it does show that the top 20 most occurring words are more often in spam emails than they are in ham emails.\"\n",
    "display(Markdown(word_string))"
   ]
  },
  {
   "cell_type": "code",
   "execution_count": 468,
   "metadata": {
    "collapsed": true
   },
   "outputs": [],
   "source": [
    "# words= pd.DataFrame(spam_and_ham, columns=[top_words['word']])\n",
    "# zeros_and_ones= words.apply(pd.Series.value_counts, axis=1).fillna(0)\n",
    "# percent_zeros= zeros_and_ones[0]/20\n",
    "# words['percent spam words']= percent_zeros"
   ]
  },
  {
   "cell_type": "code",
   "execution_count": 469,
   "metadata": {
    "collapsed": true
   },
   "outputs": [],
   "source": [
    "#word_feature= np.concatenate((X_train, reshaped_word), axis=1)"
   ]
  },
  {
   "cell_type": "code",
   "execution_count": 470,
   "metadata": {
    "collapsed": true
   },
   "outputs": [],
   "source": [
    "#model for words\n",
    "# log_reg_mod= linear_model.LogisticRegression(fit_intercept= False)\n",
    "# model= log_reg_mod.fit(X_train, y_train).coef_\n",
    "# log_reg_mod.score(X_train, y_train)"
   ]
  },
  {
   "cell_type": "code",
   "execution_count": 471,
   "metadata": {},
   "outputs": [
    {
     "data": {
      "text/plain": [
       "<matplotlib.text.Text at 0x1891572e8>"
      ]
     },
     "execution_count": 471,
     "metadata": {},
     "output_type": "execute_result"
    },
    {
     "data": {
      "image/png": "[encoded data removed]",
      "text/plain": [
       "<matplotlib.figure.Figure at 0x18943f828>"
      ]
     },
     "metadata": {},
     "output_type": "display_data"
    }
   ],
   "source": [
    "train_spam= (train.loc[train.spam == 1]).reset_index()\n",
    "number_of_characters_spam = []\n",
    "for i in range(len(train_spam)):\n",
    "    number_of_characters_spam= number_of_characters_spam + [len(train_spam.email[i])]\n",
    "\n",
    "#\n",
    "train_non_spam = (train.loc[train.spam == 0]).reset_index()\n",
    "number_of_characters = []\n",
    "for i in range(len(train_non_spam)):\n",
    "    number_of_characters = number_of_characters + [len(train_non_spam.email[i])]\n",
    "plot= sns.distplot(number_of_characters, bins=650, label='spam')\n",
    "\n",
    "#plot.set_xscale('log')\n",
    "#number of words\n",
    "plt.xlim(0,40000)\n",
    "average_length_char_non_spam = np.sum(number_of_characters)/ len(train_spam)\n",
    "average_length_char_non_spam\n",
    "# col3= number_of_characters\n",
    "# column2= col3[col3>0]\n",
    "# x3= np.log(cols)\n",
    "# y3= x3[x3>0]\n",
    "# plot=sns.distplot(np.log(y3), bins=100)\n",
    "plot= sns.distplot(number_of_characters_spam, bins= 650, label= 'ham')\n",
    "plt.xlim(0, 40000)\n",
    "average_length_char_spam = np.sum(number_of_characters_spam) / len(train_spam)\n",
    "average_length_char_spam\n",
    "plt.legend()\n",
    "plot.set_xlabel('Amount of Words')\n",
    "plot.set_ylabel('Density')"
   ]
  },
  {
   "cell_type": "code",
   "execution_count": 472,
   "metadata": {
    "scrolled": true
   },
   "outputs": [
    {
     "data": {
      "text/plain": [
       "(5016.7683609705573, 5881.7456577210314)"
      ]
     },
     "execution_count": 472,
     "metadata": {},
     "output_type": "execute_result"
    }
   ],
   "source": [
    "#95% CI number of spam characters\n",
    "mean_spam= np.mean(number_of_characters_spam)\n",
    "standard_error_spam = np.std(number_of_characters_spam) / np.sqrt(len(number_of_characters_spam))\n",
    "ci_upper= mean_spam + 1.645 *standard_error_spam\n",
    "ci_lower= mean_spam - 1.645 *standard_error_spam\n",
    "ci_spam = (ci_lower, ci_upper)\n",
    "ci_spam"
   ]
  },
  {
   "cell_type": "code",
   "execution_count": 473,
   "metadata": {},
   "outputs": [
    {
     "data": {
      "text/plain": [
       "(2778.3620280074138, 3146.9401627142361)"
      ]
     },
     "execution_count": 473,
     "metadata": {},
     "output_type": "execute_result"
    }
   ],
   "source": [
    "mean_non_spam= np.mean(number_of_characters)\n",
    "standard_error = np.std(number_of_characters) / np.sqrt(len(number_of_characters))\n",
    "ci_upper2= mean_non_spam + 1.645 *standard_error\n",
    "ci_lower2= mean_non_spam - 1.645 *standard_error\n",
    "ci_nonspam = (ci_lower2, ci_upper2)\n",
    "ci_nonspam"
   ]
  },
  {
   "cell_type": "code",
   "execution_count": 474,
   "metadata": {
    "collapsed": true
   },
   "outputs": [],
   "source": [
    "spam_words= ['free access', 'free grant money', 'free hosting', 'free investment'\n",
    "             , 'free leads', 'free money', 'free quote', 'free sample', 'full refund',\n",
    "            'get paid', 'lowest price', 'we hate spam', \"this isn't spam\", 'unlimited',\n",
    "            'winner', 'for free', 'billion dollars', 'as seen on', 'bank',\n",
    "            'credit', 'click here', 'dig up dirt', 'not a scam', 'limited time',\n",
    "            'satisfaction guaranteed', 'fast cash', 'click here', 'additional income',\n",
    "            'guaranteed', 'join', 'opportunity', 'work at home', 'no fees', 'earn extra',\n",
    "            'click to remove', '#1', '100% free', 'thousands', 'americans', 'f r e e', \n",
    "            'fantastic deal', \"it's effective\", 'congratulations', 'act now', 'order now',\n",
    "            'time limited', 'limited', 'bonus', 'maximize']"
   ]
  },
  {
   "cell_type": "code",
   "execution_count": 476,
   "metadata": {
    "collapsed": true
   },
   "outputs": [],
   "source": [
    "spam_feature = words_in_texts(spam_words, train['email'])\n"
   ]
  },
  {
   "cell_type": "code",
   "execution_count": 477,
   "metadata": {},
   "outputs": [
    {
     "data": {
      "text/plain": [
       "8348"
      ]
     },
     "execution_count": 477,
     "metadata": {},
     "output_type": "execute_result"
    }
   ],
   "source": [
    "X_train_new=np.hstack([X_train, punct_feature, upper_feature, characters_feature, spam_feature])\n",
    "len(X_train_new)"
   ]
  },
  {
   "cell_type": "code",
   "execution_count": 478,
   "metadata": {},
   "outputs": [
    {
     "data": {
      "text/plain": [
       "0.8667944417824629"
      ]
     },
     "execution_count": 478,
     "metadata": {},
     "output_type": "execute_result"
    }
   ],
   "source": [
    "import sklearn\n",
    "log_reg_mod2= linear_model.LogisticRegressionCV(fit_intercept=False)\n",
    "clf2= log_reg_mod2.fit(X_train_new, y_train)\n",
    "score= clf2.score(X_train_new, y_train)\n",
    "score"
   ]
  },
  {
   "cell_type": "code",
   "execution_count": 479,
   "metadata": {},
   "outputs": [
    {
     "data": {
      "text/plain": [
       "(8348, 118252)"
      ]
     },
     "execution_count": 479,
     "metadata": {},
     "output_type": "execute_result"
    }
   ],
   "source": [
    "from sklearn.feature_extraction.text import CountVectorizer\n",
    "vectorizer = CountVectorizer()\n",
    "X_traincounts = vectorizer.fit_transform(train.email)\n",
    "X_traincounts.shape"
   ]
  },
  {
   "cell_type": "code",
   "execution_count": 480,
   "metadata": {},
   "outputs": [
    {
     "data": {
      "text/plain": [
       "(8348, 118252)"
      ]
     },
     "execution_count": 480,
     "metadata": {},
     "output_type": "execute_result"
    }
   ],
   "source": [
    "from sklearn.feature_extraction.text import TfidfTransformer\n",
    "transformer = TfidfTransformer().fit(X_traincounts)\n",
    "X_train_tf = transformer.transform(X_traincounts)\n",
    "X_train_tf.shape"
   ]
  },
  {
   "cell_type": "code",
   "execution_count": 481,
   "metadata": {
    "scrolled": true
   },
   "outputs": [
    {
     "data": {
      "text/plain": [
       "0.9885002395783421"
      ]
     },
     "execution_count": 481,
     "metadata": {},
     "output_type": "execute_result"
    }
   ],
   "source": [
    "clf_tf = LogisticRegression().fit(X_train_tf, y_train)\n",
    "clf_tf.score(X_train_tf, y_train)"
   ]
  },
  {
   "cell_type": "code",
   "execution_count": 482,
   "metadata": {},
   "outputs": [
    {
     "data": {
      "text/plain": [
       "array([0, 1, 1, 0, 0, 0, 1, 0, 0, 0, 1, 0, 0, 0, 0, 0, 1, 0, 0, 0, 0, 1, 0,\n",
       "       0, 0, 0, 0, 1, 1, 0, 0, 0, 0, 1, 0, 0, 0, 0, 0, 0, 0, 0, 0, 0, 0, 1,\n",
       "       0, 0, 1, 0, 0, 0, 0, 0, 0, 0, 0, 0, 0, 1, 1, 0, 1, 1, 0, 0, 0, 1, 1,\n",
       "       0, 0, 0, 0, 0, 0, 1, 0, 0, 0, 0, 0, 1, 0, 0, 0, 1, 1, 0, 0, 1, 0, 0,\n",
       "       0, 0, 1, 0, 0, 1, 0, 1, 0, 0, 0, 0, 0, 0, 0, 0, 0, 0, 0, 0, 0, 0, 1,\n",
       "       0, 1, 0, 1, 1, 0, 0, 0, 0, 0, 0, 0, 0, 0, 0, 0, 0, 0, 0, 0, 1, 0, 1,\n",
       "       0, 0, 1, 0, 0, 0, 0, 0, 0, 0, 0, 0, 0, 0, 0, 0, 1, 0, 0, 0, 0, 0, 1,\n",
       "       0, 1, 0, 0, 1, 0, 1, 0, 0, 0, 0, 0, 1, 0, 0, 0, 0, 0, 0, 1, 0, 0, 0,\n",
       "       1, 0, 1, 0, 0, 0, 1, 0, 0, 0, 1, 0, 0, 1, 0, 0, 0, 0, 1, 0, 0, 0, 0,\n",
       "       0, 0, 0, 0, 0, 0, 0, 1, 1, 0, 0, 0, 0, 0, 1, 0, 0, 1, 0, 0, 0, 0, 1,\n",
       "       0, 0, 0, 0, 0, 0, 0, 0, 1, 0, 0, 0, 1, 1, 0, 0, 0, 0, 0, 1, 0, 0, 0,\n",
       "       1, 0, 1, 0, 0, 0, 1, 1, 0, 1, 1, 0, 0, 0, 0, 0, 0, 0, 0, 0, 0, 0, 1,\n",
       "       0, 0, 0, 0, 0, 0, 0, 0, 0, 0, 0, 1, 0, 1, 0, 0, 0, 0, 1, 0, 0, 1, 0,\n",
       "       1, 1, 1, 0, 0, 0, 0, 0, 0, 1, 1, 0, 0, 0, 1, 1, 0, 0, 0, 0, 0, 0, 0,\n",
       "       1, 0, 0, 0, 0, 0, 1, 0, 0, 1, 0, 0, 1, 0, 0, 0, 0, 1, 0, 0, 1, 0, 1,\n",
       "       0, 1, 0, 0, 0, 1, 0, 0, 0, 0, 0, 0, 1, 1, 1, 0, 0, 0, 0, 1, 0, 0, 0,\n",
       "       0, 1, 0, 1, 0, 0, 0, 1, 0, 0, 1, 1, 1, 0, 0, 0, 1, 0, 0, 1, 1, 0, 1,\n",
       "       0, 1, 1, 0, 0, 1, 1, 0, 0, 0, 1, 1, 0, 0, 0, 0, 0, 1, 0, 0, 1, 0, 0,\n",
       "       0, 0, 0, 0, 1, 1, 0, 0, 0, 0, 0, 1, 0, 0, 0, 0, 0, 1, 1, 0, 0, 1, 1,\n",
       "       1, 0, 0, 1, 0, 1, 0, 0, 0, 0, 0, 0, 0, 0, 0, 1, 0, 0, 0, 0, 0, 1, 0,\n",
       "       0, 0, 0, 0, 1, 0, 0, 0, 0, 0, 0, 0, 0, 0, 0, 0, 0, 1, 0, 0, 0, 1, 1,\n",
       "       1, 1, 0, 0, 0, 0, 1, 0, 0, 0, 0, 1, 0, 0, 1, 0, 0, 0, 1, 0, 0, 1, 0,\n",
       "       0, 0, 0, 1, 0, 0, 0, 0, 1, 0, 0, 0, 1, 0, 1, 1, 0, 0, 0, 0, 0, 0, 1,\n",
       "       1, 0, 1, 1, 0, 0, 1, 1, 0, 0, 0, 0, 0, 0, 1, 0, 0, 0, 0, 0, 0, 0, 0,\n",
       "       0, 0, 0, 0, 1, 0, 1, 1, 0, 0, 1, 0, 0, 0, 0, 1, 0, 0, 0, 0, 0, 0, 0,\n",
       "       1, 0, 0, 0, 1, 0, 0, 0, 0, 0, 0, 0, 0, 0, 0, 0, 1, 0, 0, 0, 0, 1, 0,\n",
       "       0, 0, 0, 1, 0, 0, 0, 0, 0, 0, 1, 0, 0, 0, 0, 1, 1, 0, 0, 0, 1, 0, 0,\n",
       "       0, 1, 0, 0, 0, 0, 1, 0, 0, 0, 1, 1, 0, 0, 1, 0, 1, 0, 0, 0, 1, 1, 1,\n",
       "       0, 1, 0, 0, 0, 0, 0, 0, 0, 0, 0, 0, 0, 1, 0, 0, 0, 0, 0, 0, 0, 0, 0,\n",
       "       0, 0, 1, 0, 0, 0, 1, 0, 0, 1, 1, 0, 0, 0, 0, 0, 0, 1, 1, 1, 1, 0, 0,\n",
       "       0, 0, 0, 0, 0, 1, 0, 0, 0, 0, 0, 0, 0, 0, 1, 0, 0, 1, 0, 0, 0, 0, 0,\n",
       "       0, 1, 0, 0, 0, 1, 0, 0, 0, 0, 1, 1, 1, 0, 1, 1, 1, 0, 1, 0, 0, 0, 0,\n",
       "       1, 0, 0, 0, 0, 0, 1, 1, 0, 0, 0, 0, 0, 0, 0, 0, 0, 1, 0, 0, 0, 0, 0,\n",
       "       0, 0, 1, 0, 1, 0, 0, 0, 0, 0, 0, 0, 0, 0, 1, 1, 0, 0, 0, 0, 1, 1, 0,\n",
       "       0, 0, 0, 1, 1, 0, 0, 0, 0, 0, 0, 0, 1, 0, 0, 0, 1, 0, 0, 1, 0, 1, 0,\n",
       "       0, 1, 0, 0, 1, 0, 0, 0, 1, 0, 0, 1, 0, 0, 0, 0, 0, 0, 0, 0, 0, 0, 1,\n",
       "       0, 1, 0, 0, 0, 0, 0, 1, 1, 0, 0, 0, 0, 0, 0, 0, 0, 1, 0, 0, 0, 0, 0,\n",
       "       0, 1, 1, 0, 0, 0, 1, 0, 0, 0, 0, 0, 0, 0, 0, 0, 0, 0, 0, 0, 0, 1, 0,\n",
       "       0, 0, 0, 1, 0, 0, 1, 0, 1, 1, 0, 0, 0, 0, 0, 1, 0, 0, 1, 0, 0, 1, 0,\n",
       "       1, 0, 1, 0, 1, 0, 1, 0, 0, 0, 0, 0, 0, 0, 0, 0, 0, 0, 0, 0, 1, 1, 0,\n",
       "       0, 1, 0, 0, 0, 0, 0, 1, 0, 1, 1, 0, 1, 0, 1, 0, 1, 0, 0, 0, 0, 0, 1,\n",
       "       0, 0, 0, 0, 0, 0, 0, 1, 0, 0, 0, 0, 1, 0, 1, 1, 0, 0, 1, 0, 0, 0, 0,\n",
       "       0, 0, 0, 0, 0, 0, 1, 0, 0, 1, 0, 1, 1, 0, 0, 0, 0, 0, 0, 0, 0, 0, 0,\n",
       "       0, 1, 0, 0, 0, 0, 0, 0, 0, 0, 1])"
      ]
     },
     "execution_count": 482,
     "metadata": {},
     "output_type": "execute_result"
    }
   ],
   "source": [
    "from sklearn.pipeline import Pipeline\n",
    "text_clf= Pipeline([('vect', CountVectorizer()), ('tfidf', TfidfTransformer()\n",
    "                                                 ), ('clf', LogisticRegression())])\n",
    "text_clf.fit(train.email, train.spam)\n",
    "test_predictions = text_clf.predict(test.email)\n",
    "test_predictions"
   ]
  },
  {
   "cell_type": "markdown",
   "metadata": {},
   "source": [
    "### Feature/Model Selection Process\n",
    "\n",
    "In this following cell, describe the process of improving your model. You should use at least 2-3 sentences each to address the follow questions:\n",
    "\n",
    "1. How did you find better features for your model?\n",
    "2. What did you try that worked / didn't work?\n",
    "3. What was surprising in your search for good features?"
   ]
  },
  {
   "cell_type": "markdown",
   "metadata": {
    "tags": [
     "student",
     "written",
     "q_feature"
    ]
   },
   "source": [
    "1. *I originally tried with the suggested features to try and test accuracy, but none were giving the clf that was required. Once I did the bag of words feature, I reached a high clf and knew that was the best way to do it from all the techniques I tried. There was a lot of trial and error to be able to discover what was the best feature to use.*\n",
    "1. *What I found to work best was implementing the td-idf feature because it increased accuracy by a significant amount. Originally I was doing bag of words but was not doing td-idf which as a result, I was looking at total number of occurences of words which wasn't what I wanted. Originally, I thought adding spam words to the model would be enough to reach an 88% clf. This may have worked if I kept adding appropriate spam words, but there would have been a lot of overfitting if this was the only technique I used.*\n",
    "1. *What surprised me was the amount of accuracy it increased by using the td-idf feature. Before, just implementing the spam words brought it up but did not even reach the required 88%, but once I used the bag of words feature, it brought it up over 20% from the original X_train.*"
   ]
  },
  {
   "cell_type": "markdown",
   "metadata": {},
   "source": [
    "### EDA\n",
    "\n",
    "In the four light blue cells below, show us four different visualizations that you used to select features for your model. Each cell should output:\n",
    "\n",
    "1. A plot showing something meaningful about the data that helped you during feature / model selection.\n",
    "2. 2-3 sentences describing what you plotted and what its implications are for your features.\n",
    "\n",
    "Feel to create as many plots as you want in your process of feature selection, but select four interesting ones for the cells below.\n",
    "\n",
    "You should not show us more than one visualization for the same type of feature. For example, don't show us a bar chart of the number of emails that contain the word \"hello\" and a bar chart of the number of emails that contain the word \"world\". Each visualization should be conceptually distinct."
   ]
  },
  {
   "cell_type": "code",
   "execution_count": 483,
   "metadata": {
    "tags": [
     "student",
     "written",
     "q_eda1"
    ]
   },
   "outputs": [
    {
     "data": {
      "text/markdown": [
       "In this visualization I separated the Upper Case Letters into two graphs, spam and ham. This way we can compare the loglog of the count of upper case letters in spam emails vs. the loglog of the count of upper case letters in ham emails. The results from the data that was given showed that ham emails tend to have less uppercase letters than spam emails do. The spam graph is skewed left and the ham graph is more of a bimodal distribution, with a peak around 1.25 and another around 2.0, with a very sight skew to the left."
      ],
      "text/plain": [
       "<IPython.core.display.Markdown object>"
      ]
     },
     "metadata": {},
     "output_type": "display_data"
    },
    {
     "data": {
      "image/png": "[encoded data removed]",
      "text/plain": [
       "<matplotlib.figure.Figure at 0x18bcd42e8>"
      ]
     },
     "metadata": {},
     "output_type": "display_data"
    }
   ],
   "source": [
    "# This is the first graded EDA cell\n",
    "#count the number of uppercase letters in the emails and create an uppercase column\n",
    "import re\n",
    "upper= []\n",
    "for i in train_upper['email']:\n",
    "    upper+= [len(re.findall(r'[A-Z]', i))]\n",
    "train_upper['upper']= upper\n",
    "#separate spam from not spam\n",
    "train_spam_upper= (train_upper.loc[train_upper.spam == 1]).reset_index()\n",
    "train_non_spam_upper = (train_upper.loc[train_upper.spam == 0]).reset_index()\n",
    "\n",
    "\n",
    "#graph the spam and nonspam \n",
    "col= train_spam_upper['upper']\n",
    "column= col[col>0]\n",
    "x= np.log(column)\n",
    "col1= x[x>0]\n",
    "plot=sns.distplot(np.log(col1), bins=100, label= 'spam')\n",
    "\n",
    "col3= train_non_spam_upper['upper']\n",
    "columns3= col3[col3>0]\n",
    "x3 = np.log(columns3)\n",
    "coll3= x3[x3>0]\n",
    "plot=sns.distplot(np.log(coll3), bins=100, label= 'ham')\n",
    "\n",
    "plt.legend()\n",
    "plot.set_xlabel('LogLog of Amount of Upper Case Letters')\n",
    "plot.set_ylabel('Density')\n",
    "\n",
    "\n",
    "string= \"In this visualization I separated the Upper Case Letters into two graphs, spam and ham. This way we can compare the loglog of the count of upper case letters in spam emails vs. the loglog of the count of upper case letters in ham emails. The results from the data that was given showed that ham emails tend to have less uppercase letters than spam emails do. The spam graph is skewed left and the ham graph is more of a bimodal distribution, with a peak around 1.25 and another around 2.0, with a very sight skew to the left.\"\n",
    "display(Markdown(string))"
   ]
  },
  {
   "cell_type": "code",
   "execution_count": 484,
   "metadata": {
    "scrolled": true,
    "tags": [
     "student",
     "written",
     "q_eda2"
    ]
   },
   "outputs": [
    {
     "data": {
      "text/markdown": [
       "In this graph I separated the punctuation into two graphs, spam and ham. This way we can compare the loglog of the count of punctuation in spam emails vs. the loglog of the count of punctuation in ham emails. The results from the data that was given showed that ham emails tend to have less punctuation than spam emails do. Both the graphs have similar shape, and are both slightly skewed left."
      ],
      "text/plain": [
       "<IPython.core.display.Markdown object>"
      ]
     },
     "metadata": {},
     "output_type": "display_data"
    },
    {
     "data": {
      "image/png": "[encoded data removed]",
      "text/plain": [
       "<matplotlib.figure.Figure at 0x1884d8048>"
      ]
     },
     "metadata": {},
     "output_type": "display_data"
    }
   ],
   "source": [
    "# This is the second graded EDA cell\n",
    "import re\n",
    "#count the number of punctuations in each email\n",
    "punct_re= r'[\"#$%&\\'()*+,-.\\/:;<=>?@\\[\\\\\\]^_`{|}~!]'\n",
    "count=[]\n",
    "for i in train['email']:\n",
    "    count+= [len(re.findall(punct_re, i))]\n",
    "train['punct']= count\n",
    "#separate into spam and ham\n",
    "train_spam_punct= (train.loc[train.spam == 1]).reset_index()\n",
    "train_non_spam_punct = (train.loc[train.spam == 0]).reset_index()\n",
    "\n",
    "#graph spam and ham punctuation\n",
    "cols= train_spam_punct['punct']\n",
    "columns= cols[cols>0]\n",
    "xs= np.log(columns)\n",
    "coll= xs[xs>0]\n",
    "plot1=sns.distplot(np.log(coll), bins=100, label= 'spam')\n",
    "\n",
    "cols2= train_non_spam_punct['punct']\n",
    "columns2= cols2[cols2>0]\n",
    "x2= np.log(columns2)\n",
    "coll2= x2[x2>0]\n",
    "plot1=sns.distplot(np.log(coll2), bins=100, label= 'ham')\n",
    "\n",
    "plt.legend()\n",
    "plot1.set_xlabel('LogLog of Amount of Punctuation')\n",
    "plot1.set_ylabel('Density')\n",
    "\n",
    "second_string= \"In this graph I separated the punctuation into two graphs, spam and ham. This way we can compare the loglog of the count of punctuation in spam emails vs. the loglog of the count of punctuation in ham emails. The results from the data that was given showed that ham emails tend to have less punctuation than spam emails do. Both the graphs have similar shape, and are both slightly skewed left.\"\n",
    "display(Markdown(second_string))"
   ]
  },
  {
   "cell_type": "code",
   "execution_count": 485,
   "metadata": {
    "tags": [
     "student",
     "written",
     "q_eda3"
    ]
   },
   "outputs": [
    {
     "name": "stdout",
     "output_type": "stream",
     "text": [
      "95% Confidence Interval of Count of Characters in Spam emails\n",
      "(4933.9513857497668, 5964.5626329418219)\n",
      "95% Confidence Interval of Count of Characters in Non-Spam emails\n",
      "(2778.3620280074138, 3146.9401627142361)\n"
     ]
    },
    {
     "data": {
      "text/markdown": [
       "For this feature, I separated the spam characters and the ham characters to create a graph comparing the two. The graphs look fairly similar in shape, but spam having more emails with less characters. The range of both spam and ham are roughly the same, and both are skewed right."
      ],
      "text/plain": [
       "<IPython.core.display.Markdown object>"
      ]
     },
     "metadata": {},
     "output_type": "display_data"
    },
    {
     "data": {
      "image/png": "[encoded data removed]",
      "text/plain": [
       "<matplotlib.figure.Figure at 0x18943f6d8>"
      ]
     },
     "metadata": {},
     "output_type": "display_data"
    }
   ],
   "source": [
    "# This is the third graded EDA cell\n",
    "#count the number of characters in each email\n",
    "number_of_character_all= []\n",
    "for i in range(len(train.email)):\n",
    "    number_of_character_all+= [len(train.email[i])]\n",
    "    \n",
    "train['characters']= number_of_character_all\n",
    "#count the number of characters in spam emails\n",
    "train_spam= (train.loc[train.spam == 1]).reset_index()\n",
    "number_of_characters_spam = []\n",
    "for i in range(len(train_spam)):\n",
    "    number_of_characters_spam= number_of_characters_spam + [len(train_spam.email[i])]\n",
    "\n",
    "#count the number of characters in non spam emails\n",
    "train_non_spam = (train.loc[train.spam == 0]).reset_index()\n",
    "number_of_characters = []\n",
    "for i in range(len(train_non_spam)):\n",
    "    number_of_characters = number_of_characters + [len(train_non_spam.email[i])]\n",
    "plot2= sns.distplot(number_of_characters, bins=650, label='spam')\n",
    "\n",
    "plt.xlim(0,20000)\n",
    "plot2= sns.distplot(number_of_characters_spam, bins= 650, label= 'ham')\n",
    "plt.legend()\n",
    "plot2.set_xlabel('Amount of Characters')\n",
    "plot2.set_ylabel('Density')\n",
    "#find confidence interval of spam characters\n",
    "mean_spam= np.mean(number_of_characters_spam)\n",
    "standard_error_spam = np.std(number_of_characters_spam) / np.sqrt(len(number_of_characters_spam))\n",
    "ci_upper= mean_spam + 1.96 *standard_error_spam\n",
    "ci_lower= mean_spam - 1.96 *standard_error_spam\n",
    "ci_spam = (ci_lower, ci_upper)\n",
    "print(\"95% Confidence Interval of Count of Characters in Spam emails\")\n",
    "print(ci_spam)\n",
    "#find confidence interval of non spam characters\n",
    "mean_non_spam= np.mean(number_of_characters)\n",
    "standard_error = np.std(number_of_characters) / np.sqrt(len(number_of_characters))\n",
    "ci_upper2= mean_non_spam + 1.645 *standard_error\n",
    "ci_lower2= mean_non_spam - 1.645 *standard_error\n",
    "ci_nonspam = (ci_lower2, ci_upper2)\n",
    "print(\"95% Confidence Interval of Count of Characters in Non-Spam emails\")\n",
    "print(ci_nonspam)\n",
    "\n",
    "character_string= 'For this feature, I separated the spam characters and the ham characters to create a graph comparing the two. The graphs look fairly similar in shape, but spam having more emails with less characters. The range of both spam and ham are roughly the same, and both are skewed right.'\n",
    "display(Markdown(character_string))"
   ]
  },
  {
   "cell_type": "code",
   "execution_count": 486,
   "metadata": {
    "scrolled": true,
    "tags": [
     "student",
     "written",
     "q_eda4"
    ]
   },
   "outputs": [
    {
     "name": "stdout",
     "output_type": "stream",
     "text": [
      "Average percent of top 20 words occurring in ham: 0.769813\n",
      "Average percent of top 20 words occurring in spam: 0.811893\n"
     ]
    },
    {
     "data": {
      "text/markdown": [
       "This graph shows that there were times when all 20 words occurred in both spam and ham emails, but all 20 appeared in spam emails more often than in ham. The highest percentages of word occurences were more often in spam emails, but as the percentages decreased from about 85%, the ham emails generally had slightly more occurences of those percentages than the spam emails did. This distribution is heavily skewed left. The average percent of the times the top 20 words occured is higher in spam emails than in ham emails."
      ],
      "text/plain": [
       "<IPython.core.display.Markdown object>"
      ]
     },
     "metadata": {},
     "output_type": "display_data"
    },
    {
     "data": {
      "image/png": "[encoded data removed]",
      "text/plain": [
       "<matplotlib.figure.Figure at 0x18c6090f0>"
      ]
     },
     "metadata": {},
     "output_type": "display_data"
    }
   ],
   "source": [
    "# This is the fourth graded EDA cell\n",
    "#select the different words from all of the emails\n",
    "def unique_words(dfs):\n",
    "    dicty = {}\n",
    "    for i in range(len(dfs)):\n",
    "        words= np.unique(dfs.iloc[i].split())\n",
    "        for w in words:\n",
    "            if w in dicty:\n",
    "                dicty[w] += 1\n",
    "            else:\n",
    "                dicty[w] = 1\n",
    "    return dicty\n",
    "#count the number of appearances of each word and create a dataframe\n",
    "num_words_used = unique_words(train.email)\n",
    "words= list(num_words_used.keys())\n",
    "counts= [num_words_used[k] for k in words]\n",
    "word_counts = pd.DataFrame({'word': words, 'word_count': counts})\n",
    "\n",
    "#I sorted the count of the words in ascending order and selected the top 1000\n",
    "top_words= word_counts.sort_values(['word_count'], ascending= False).head(20)\n",
    "\n",
    "#find if the top words are in the emails\n",
    "spam_and_ham= words_in_texts(top_words['word'], train['email'])\n",
    "\n",
    "#count the number of top words that are in and arent in the emails\n",
    "words= pd.DataFrame(spam_and_ham, columns=[top_words['word']])\n",
    "zeros_and_ones= words.apply(pd.Series.value_counts, axis=1).fillna(0)\n",
    "\n",
    "#calculate percentage of the words that appear in the emails\n",
    "percent_ones= zeros_and_ones[1]/20\n",
    "train['percent top words']= percent_ones\n",
    "train2= train[['spam', 'percent top words']]\n",
    "\n",
    "#group by spam and ham emails and take the average percent\n",
    "train_spam_words= (train.loc[train.spam == 1]).reset_index()\n",
    "train_non_spam_words = (train.loc[train.spam == 0]).reset_index()\n",
    "percent_ones= zeros_and_ones[1]/20\n",
    "train['percent top words']= percent_ones\n",
    "train2= train[['spam', 'percent top words']]\n",
    "grouped_train= train2.groupby(['spam']).mean()\n",
    "\n",
    "column_want= train_spam_words['percent top words']\n",
    "plot5= sns.distplot((column_want), bins=100, label= 'spam', color='darkorange')\n",
    "\n",
    "column_want_ham= train_non_spam_words['percent top words']\n",
    "plot5= sns.distplot((column_want_ham), bins=100, label= 'ham')\n",
    "plt.legend()\n",
    "plot5.set_xlabel('Percent of Occurences of Top 20 Words in Emails')\n",
    "plot5.set_ylabel('Amount of Times the Percent Occured')\n",
    "print('Average percent of top 20 words occurring in ham:', 0.769813)\n",
    "print('Average percent of top 20 words occurring in spam:', 0.811893)\n",
    "word_string= \"This graph shows that there were times when all 20 words occurred in both spam and ham emails, but all 20 appeared in spam emails more often than in ham. The highest percentages of word occurences were more often in spam emails, but as the percentages decreased from about 85%, the ham emails generally had slightly more occurences of those percentages than the spam emails did. This distribution is heavily skewed left. The average percent of the times the top 20 words occured is higher in spam emails than in ham emails.\"\n",
    "display(Markdown(word_string))\n"
   ]
  },
  {
   "cell_type": "markdown",
   "metadata": {},
   "source": [
    "### Making an ROC Curve\n",
    "\n",
    "It turns out that there's a tradeoff between sensitivity and specificity. In most cases we won't be able to get perfect sensitivity and specificity, so we have to select which of two we value more. For example, in the case of cancer screenings we value specificity more because false negatives are comparatively worse than false positives — a false negative means that a patient might not discover a disease until it's too late to treat, while a false positive means that a patient will probably have to take another screening.\n",
    "\n",
    "Recall that logistic regression calculates the probability that an example belongs to a certain class. Then, to classify an example we say that an email is spam if our classifier gives it >=0.5 probability of being spam. However, we can adjust that cutoff: we can say that an email is spam only if our classifier gives it >=0.7 probability of being spam, for example. This is how we can trade off sensitivity and specificity.\n",
    "\n",
    "The ROC (receiver operating charactistic) curve shows this trade off for each possible cutoff probability. We will discuss this during lecture, and you can also read [this blog post for more information.](https://www.theanalysisfactor.com/what-is-an-roc-curve/).\n",
    "\n",
    "In the light blue cell below, plot the ROC curve for your final classifier (the one you use to make predictions for Kaggle)."
   ]
  },
  {
   "cell_type": "code",
   "execution_count": 487,
   "metadata": {
    "tags": [
     "student",
     "written",
     "q_roc"
    ]
   },
   "outputs": [
    {
     "data": {
      "image/png": "[encoded data removed]",
      "text/plain": [
       "<matplotlib.figure.Figure at 0x173085f28>"
      ]
     },
     "metadata": {},
     "output_type": "display_data"
    }
   ],
   "source": [
    "probabilities= pd.DataFrame(text_clf.predict_proba(train.email))\n",
    "from sklearn.metrics import roc_curve\n",
    "curve= roc_curve(y_train, probabilities[1])\n",
    "plt.figure()\n",
    "lw= 2\n",
    "plt.plot(curve[0], curve[1], color='darkorange', lw=lw, label='ROC curve')\n",
    "plt.plot([0,1], [0,1], color='navy', lw=lw, linestyle= '--')\n",
    "plt.xlim([0.0, 1.0])\n",
    "plt.ylim([0.0, 1.05])\n",
    "plt.xlabel('False Positive Rate')\n",
    "plt.ylabel('True Positive Rate')\n",
    "plt.title('Receiver Operating Characteristic Curve')\n",
    "plt.legend(loc= 'lower right')\n",
    "plt.show()\n",
    "\n",
    "# Note that you'll want to use the .predict_proba(...) method for your classifier\n",
    "# instead of .predict(...) so you get probabilities, not classes"
   ]
  },
  {
   "cell_type": "markdown",
   "metadata": {},
   "source": [
    "### Submitting to Kaggle\n",
    "\n",
    "The following code will write your predictions on the test dataset to a CSV, which you can submit to Kaggle. You may need to modify it to suit your needs.\n",
    "\n",
    "The code below assumes that you've saved your predictions in a 1-dimensional array called `test_predictions`.\n",
    "\n",
    "Remember that if you've performed transformations or featurization on the training data, you must also perform the same transformations on the test data in order to make predictions. For example, if you've created features for the words \"drug\" and \"money\" on the training data, you must also extract the same features in order to use scikit-learn's `.predict(...)` method.\n",
    "\n",
    "You should submit your CSV files to https://www.kaggle.com/t/433a6bca95f94a78a0d2a6e7e8b311c3"
   ]
  },
  {
   "cell_type": "code",
   "execution_count": 156,
   "metadata": {},
   "outputs": [
    {
     "name": "stdout",
     "output_type": "stream",
     "text": [
      "Created a CSV file: submission_2017-12-05T19:03:04.csv.\n",
      "You may now upload this CSV file to Kaggle for scoring.\n"
     ]
    }
   ],
   "source": [
    "from datetime import datetime\n",
    "\n",
    "# Assuming that your predictions on the test set are stored in a 1-dimensional array called\n",
    "# test_predictions. Feel free to modify this cell as long you create a CSV in the right format.\n",
    "assert isinstance(test_predictions, np.ndarray)\n",
    "assert test_predictions.shape == (1000, )\n",
    "\n",
    "submission_df = pd.DataFrame({\n",
    "    \"Id\": test['id'], \n",
    "    \"Class\": test_predictions,\n",
    "}, columns=['Id', 'Class'])\n",
    "\n",
    "timestamp = datetime.isoformat(datetime.now()).split(\".\")[0]\n",
    "\n",
    "submission_df.to_csv(\"submission_{}.csv\".format(timestamp), index=False)\n",
    "print('Created a CSV file: {}.'.format(\"submission_{}.csv\".format(timestamp)))\n",
    "print('You may now upload this CSV file to Kaggle for scoring.')"
   ]
  },
  {
   "cell_type": "markdown",
   "metadata": {},
   "source": [
    "## Submission\n",
    "\n",
    "Run the cell below to submit your notebook to OkPy:"
   ]
  },
  {
   "cell_type": "code",
   "execution_count": 488,
   "metadata": {},
   "outputs": [
    {
     "data": {
      "application/javascript": [
       "IPython.notebook.save_checkpoint();"
      ],
      "text/plain": [
       "<IPython.core.display.Javascript object>"
      ]
     },
     "metadata": {},
     "output_type": "display_data"
    },
    {
     "data": {
      "application/javascript": [
       "IPython.notebook.save_notebook();"
      ],
      "text/plain": [
       "<IPython.core.display.Javascript object>"
      ]
     },
     "metadata": {},
     "output_type": "display_data"
    },
    {
     "name": "stdout",
     "output_type": "stream",
     "text": [
      "Saving notebook... Saved 'proj2.ipynb'.\n",
      "Submit... 100% complete\n",
      "Submission successful for user: devyndonahue@berkeley.edu\n",
      "URL: https://okpy.org/cal/ds100/fa17/proj2/submissions/Y6Mwj9\n",
      "\n"
     ]
    }
   ],
   "source": [
    "_ = ok.submit()"
   ]
  },
  {
   "cell_type": "markdown",
   "metadata": {},
   "source": [
    "Now, run this cell to create a PDF to upload to Gradescope."
   ]
  },
  {
   "cell_type": "code",
   "execution_count": 489,
   "metadata": {
    "tags": [
     "student",
     "no-ok"
    ]
   },
   "outputs": [
    {
     "name": "stdout",
     "output_type": "stream",
     "text": [
      "Collecting gs100\n",
      "  Downloading gs100-0.0.5-py3-none-any.whl\n",
      "Requirement already up-to-date: nbconvert>=5 in /Users/devyndonahue/anaconda3/lib/python3.5/site-packages (from gs100)\n",
      "Requirement already up-to-date: nbformat>=4 in /Users/devyndonahue/anaconda3/lib/python3.5/site-packages (from gs100)\n",
      "Requirement already up-to-date: beautifulsoup4>=4 in /Users/devyndonahue/anaconda3/lib/python3.5/site-packages (from gs100)\n",
      "Requirement already up-to-date: pdfkit>=0.6 in /Users/devyndonahue/anaconda3/lib/python3.5/site-packages (from gs100)\n",
      "Requirement already up-to-date: toolz>=0.8 in /Users/devyndonahue/anaconda3/lib/python3.5/site-packages (from gs100)\n",
      "Requirement already up-to-date: PyPDF2>=1.26 in /Users/devyndonahue/anaconda3/lib/python3.5/site-packages (from gs100)\n",
      "Collecting mistune>=0.7.4 (from nbconvert>=5->gs100)\n",
      "  Downloading mistune-0.8.3-py2.py3-none-any.whl\n",
      "Collecting jinja2 (from nbconvert>=5->gs100)\n",
      "  Downloading Jinja2-2.10-py2.py3-none-any.whl (126kB)\n",
      "\u001b[K    100% |████████████████████████████████| 133kB 1.3MB/s ta 0:00:01\n",
      "\u001b[?25hRequirement already up-to-date: pygments in /Users/devyndonahue/anaconda3/lib/python3.5/site-packages (from nbconvert>=5->gs100)\n",
      "Requirement already up-to-date: traitlets>=4.2 in /Users/devyndonahue/anaconda3/lib/python3.5/site-packages (from nbconvert>=5->gs100)\n",
      "Requirement already up-to-date: jupyter_core in /Users/devyndonahue/anaconda3/lib/python3.5/site-packages (from nbconvert>=5->gs100)\n",
      "Requirement already up-to-date: entrypoints>=0.2.2 in /Users/devyndonahue/anaconda3/lib/python3.5/site-packages (from nbconvert>=5->gs100)\n",
      "Requirement already up-to-date: bleach in /Users/devyndonahue/anaconda3/lib/python3.5/site-packages (from nbconvert>=5->gs100)\n",
      "Requirement already up-to-date: pandocfilters>=1.4.1 in /Users/devyndonahue/anaconda3/lib/python3.5/site-packages (from nbconvert>=5->gs100)\n",
      "Requirement already up-to-date: testpath in /Users/devyndonahue/anaconda3/lib/python3.5/site-packages (from nbconvert>=5->gs100)\n",
      "Requirement already up-to-date: ipython_genutils in /Users/devyndonahue/anaconda3/lib/python3.5/site-packages (from nbformat>=4->gs100)\n",
      "Requirement already up-to-date: jsonschema!=2.5.0,>=2.4 in /Users/devyndonahue/anaconda3/lib/python3.5/site-packages (from nbformat>=4->gs100)\n",
      "Requirement already up-to-date: MarkupSafe>=0.23 in /Users/devyndonahue/anaconda3/lib/python3.5/site-packages (from jinja2->nbconvert>=5->gs100)\n",
      "Requirement already up-to-date: six in /Users/devyndonahue/anaconda3/lib/python3.5/site-packages (from traitlets>=4.2->nbconvert>=5->gs100)\n",
      "Requirement already up-to-date: decorator in /Users/devyndonahue/anaconda3/lib/python3.5/site-packages (from traitlets>=4.2->nbconvert>=5->gs100)\n",
      "Requirement already up-to-date: html5lib!=1.0b1,!=1.0b2,!=1.0b3,!=1.0b4,!=1.0b5,!=1.0b6,!=1.0b7,!=1.0b8,>=0.99999999pre in /Users/devyndonahue/anaconda3/lib/python3.5/site-packages (from bleach->nbconvert>=5->gs100)\n",
      "Collecting setuptools>=18.5 (from html5lib!=1.0b1,!=1.0b2,!=1.0b3,!=1.0b4,!=1.0b5,!=1.0b6,!=1.0b7,!=1.0b8,>=0.99999999pre->bleach->nbconvert>=5->gs100)\n",
      "  Downloading setuptools-38.2.4-py2.py3-none-any.whl (489kB)\n",
      "\u001b[K    100% |████████████████████████████████| 491kB 603kB/s ta 0:00:01\n",
      "\u001b[?25hRequirement already up-to-date: webencodings in /Users/devyndonahue/anaconda3/lib/python3.5/site-packages (from html5lib!=1.0b1,!=1.0b2,!=1.0b3,!=1.0b4,!=1.0b5,!=1.0b6,!=1.0b7,!=1.0b8,>=0.99999999pre->bleach->nbconvert>=5->gs100)\n",
      "Installing collected packages: gs100, mistune, jinja2, setuptools\n",
      "  Found existing installation: gs100 0.0.2\n",
      "    Uninstalling gs100-0.0.2:\n",
      "      Successfully uninstalled gs100-0.0.2\n",
      "  Found existing installation: mistune 0.8.1\n",
      "    Uninstalling mistune-0.8.1:\n",
      "      Successfully uninstalled mistune-0.8.1\n",
      "  Found existing installation: Jinja2 2.9.6\n",
      "    Uninstalling Jinja2-2.9.6:\n",
      "      Successfully uninstalled Jinja2-2.9.6\n",
      "  Found existing installation: setuptools 36.6.0\n",
      "    Uninstalling setuptools-36.6.0:\n",
      "      Successfully uninstalled setuptools-36.6.0\n",
      "Successfully installed gs100-0.0.5 jinja2-2.10 mistune-0.8.3 setuptools-38.2.4\n"
     ]
    },
    {
     "data": {
      "application/javascript": [
       "IPython.notebook.save_checkpoint();"
      ],
      "text/plain": [
       "<IPython.core.display.Javascript object>"
      ]
     },
     "metadata": {},
     "output_type": "display_data"
    },
    {
     "data": {
      "application/javascript": [
       "IPython.notebook.save_notebook();"
      ],
      "text/plain": [
       "<IPython.core.display.Javascript object>"
      ]
     },
     "metadata": {},
     "output_type": "display_data"
    },
    {
     "name": "stdout",
     "output_type": "stream",
     "text": [
      "Saving notebook... Saved 'proj2.ipynb'.\n",
      "Created question_pdfs/q_email.pdf\n",
      "Created question_pdfs/q01.pdf\n",
      "Created question_pdfs/q06.pdf\n",
      "Created question_pdfs/q_feature.pdf\n",
      "Created question_pdfs/q_eda1.pdf\n",
      "Created question_pdfs/q_eda2.pdf\n",
      "Created question_pdfs/q_eda3.pdf\n",
      "Created question_pdfs/q_eda4.pdf\n",
      "Created question_pdfs/q_roc.pdf\n"
     ]
    },
    {
     "data": {
      "text/html": [
       "<a href=\"./gradescope.pdf\" target=\"_blank\">Done! Click this link to download the pdf. Upload this PDF to Gradescope for grading.</a>"
      ],
      "text/plain": [
       "<IPython.core.display.HTML object>"
      ]
     },
     "metadata": {},
     "output_type": "display_data"
    },
    {
     "name": "stdout",
     "output_type": "stream",
     "text": [
      "If the font size of your PDF is too small/large, change the value of the zoom argument when calling convert. For example, setting zoom=2 makes everything twice as big.\n"
     ]
    }
   ],
   "source": [
    "!pip install -U gs100\n",
    "from gs100 import convert\n",
    "# Change the zoom argument if your font size is too small\n",
    "convert('proj2.ipynb', num_questions=8, zoom=1)"
   ]
  },
  {
   "cell_type": "markdown",
   "metadata": {},
   "source": [
    "Make sure to upload your PDF now. Otherwise, your written questions won't be graded."
   ]
  },
  {
   "cell_type": "code",
   "execution_count": null,
   "metadata": {
    "collapsed": true
   },
   "outputs": [],
   "source": []
  }
 ],
 "metadata": {
  "kernelspec": {
   "display_name": "Python 3",
   "language": "python",
   "name": "python3"
  },
  "language_info": {
   "codemirror_mode": {
    "name": "ipython",
    "version": 3
   },
   "file_extension": ".py",
   "mimetype": "text/x-python",
   "name": "python",
   "nbconvert_exporter": "python",
   "pygments_lexer": "ipython3",
   "version": "3.6.5"
  }
 },
 "nbformat": 4,
 "nbformat_minor": 2
}
